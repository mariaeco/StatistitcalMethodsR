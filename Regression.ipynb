{
 "cells": [
  {
   "cell_type": "code",
   "execution_count": 66,
   "id": "50944faa-f1a3-49e5-bd36-cc47d20f5a03",
   "metadata": {},
   "outputs": [
    {
     "data": {
      "text/html": [
       "\n",
       "<style>\n",
       "\n",
       "    .jp-Notebook {\n",
       "        background: linear-gradient(darkblue, lightblue) !important;\n",
       "    }\n",
       "\n",
       "    .jp-Notebook, .jp-Cell {\n",
       "         background-color: lightblue !important;\n",
       "    }\n",
       "   \n",
       " \n",
       "    h1 {\n",
       "        color: green;\n",
       "    }\n",
       "\n",
       "    h2 {\n",
       "        color: purple;\n",
       "    }\n",
       "\n",
       "    h3 {\n",
       "        color: blue;\n",
       "    }\n",
       "\n",
       "    p {\n",
       "        color: red;\n",
       "    }\n",
       "\n",
       "    ul, li p {\n",
       "        color: orange;\n",
       "    }\n",
       "\n",
       "    // definições do output:-----------------------------------------------------------------------------\n",
       "    \n",
       "   .jp-Cell-outputWrapper { \n",
       "        background: lightblue;\n",
       "    }\n",
       "\n",
       "    .jp-OutputArea-promptOverlay { //box ao lado de cada output contendo a numeração do output\n",
       "        cursor: zoom-out;\n",
       "        color: red;\n",
       "    }\n",
       "    \n",
       "    .jp-OutputArea-child .jp-OutputArea-output { // output plot area\n",
       "            flex-grow: 1;\n",
       "            flex-shrink: 1;\n",
       "            text-align: center;\n",
       "    }\n",
       "        \n",
       "// definições do input:-----------------------------------------------------------------------------\n",
       "   .jp-Cell-inputWrapper { \n",
       "        background: lightblue;\n",
       "        border: lightblue;\n",
       "    }\n",
       "    \n",
       "    .jp-InputArea-editor {\n",
       "        background-color: lightblue;\n",
       "        border: lightblue;\n",
       "    }\n",
       "    \n",
       "\n",
       "\n",
       "</style>\n"
      ],
      "text/plain": [
       "<IPython.core.display.HTML object>"
      ]
     },
     "execution_count": 66,
     "metadata": {},
     "output_type": "execute_result"
    }
   ],
   "source": [
    "from IPython.display import HTML\n",
    "\n",
    "style = f\"\"\"\n",
    "<style>\n",
    "\n",
    "    .jp-Notebook {{\n",
    "        background: linear-gradient(darkblue, lightblue) !important;\n",
    "    }}\n",
    "\n",
    "    .jp-Notebook, .jp-Cell {{\n",
    "         background-color: lightblue !important;\n",
    "    }}\n",
    "   \n",
    " \n",
    "    h1 {{\n",
    "        color: green;\n",
    "    }}\n",
    "\n",
    "    h2 {{\n",
    "        color: purple;\n",
    "    }}\n",
    "\n",
    "    h3 {{\n",
    "        color: blue;\n",
    "    }}\n",
    "\n",
    "    p {{\n",
    "        color: red;\n",
    "    }}\n",
    "\n",
    "    ul, li p {{\n",
    "        color: orange;\n",
    "    }}\n",
    "\n",
    "    // definições do output:-----------------------------------------------------------------------------\n",
    "    \n",
    "   .jp-Cell-outputWrapper {{ \n",
    "        background: lightblue;\n",
    "    }}\n",
    "\n",
    "    .jp-OutputArea-promptOverlay {{ //box ao lado de cada output contendo a numeração do output\n",
    "        cursor: zoom-out;\n",
    "        color: red;\n",
    "    }}\n",
    "    \n",
    "    .jp-OutputArea-child .jp-OutputArea-output {{ // output plot area\n",
    "            flex-grow: 1;\n",
    "            flex-shrink: 1;\n",
    "            text-align: center;\n",
    "    }}\n",
    "        \n",
    "// definições do input:-----------------------------------------------------------------------------\n",
    "   .jp-Cell-inputWrapper {{ \n",
    "        background: lightblue;\n",
    "        border: lightblue;\n",
    "    }}\n",
    "    \n",
    "    .jp-InputArea-editor {{\n",
    "        background-color: lightblue;\n",
    "        border: lightblue;\n",
    "    }}\n",
    "    \n",
    "\n",
    "\n",
    "</style>\n",
    "\"\"\"\n",
    "\n",
    "HTML(style)"
   ]
  },
  {
   "cell_type": "markdown",
   "id": "eb22e1a9-da31-4738-95e0-7bdcd16c0b22",
   "metadata": {},
   "source": [
    "\n",
    "<div style=\"text-align: center;\">\n",
    "<img src=\"logo.png\" alt=\"logo\" width=\"60\" height=\"50\"><p style=\"color:#d18807; font-size:24px; font-weight:bold; text-align: center;\">Predicting the Next Big Hit: Using Machine Learning to Forecast Song Popularity</p>\n",
    "</div>\n",
    "\n",
    "<div class=\"body\"> \n",
    "    <span style=\"color:white; font-size:12px; font-weight:bold; text-align: left;\">\n",
    "At **Data Money**, we thrive on empowering our clients in the music industry with data-driven insights.  We understand that accurately predicting a song's potential to resonate with listeners is a coveted goal—a game-changer for artists, labels, and streaming services alike. Imagine the possibilities: discovering new talent, crafting perfect playlists, optimizing marketing campaigns—all guided by a data-driven understanding of what makes a song a hit.\n",
    "\n",
    "This ambition has led us deep into the fascinating world of machine learning. By training advanced algorithms on vast datasets of musical features and popularity scores, we're building a model that can unlock the secrets behind chart-topping success. \n",
    "\n",
    "This notebook details our journey to crack the code of song popularity. We meticulously evaluate a spectrum of powerful regression algorithms, each with unique strengths tailored to capture the nuances within our dataset. Our exploration includes:\n",
    "\n",
    "**Regression Algorithms Explored:**\n",
    "\n",
    "* **Linear Regression:** This foundational algorithm assumes a linear relationship between a song's attributes (duration, acousticness, etc.) and its popularity.  Its simplicity allows for interpretability, while potential limitations lie in capturing complex interactions.\n",
    "* **Decision Tree Regressor:** This method employs a tree-like structure to make predictions based on a sequence of decisions involving song features. Its intuitive visualization aids understanding, but it can be sensitive to minor data fluctuations.\n",
    "* **Random Forest Regressor:** This ensemble approach combines multiple decision trees, enhancing accuracy and robustness while mitigating the risk of overfitting inherent in individual trees.\n",
    "* **Polynomial Regression:**  By fitting polynomial curves to the data, this technique can capture non-linear relationships between song characteristics and popularity, offering potentially higher accuracy at the risk of overfitting if not carefully managed.\n",
    "* **Regularized Regression Models:**  We'll explore variations of Linear and Polynomial Regression incorporating regularization techniques: Lasso, Ridge, and Elastic Net.  These methods help prevent overfitting and improve generalization by adding constraints to the model's parameters.\n",
    "\n",
    "**Evaluating Predictive Prowess:**\n",
    "\n",
    "To rigorously assess and compare the performance of our regression models, we'll employ a suite of metrics, each providing a unique perspective on the model's ability to predict song popularity. Understanding the mathematical underpinnings of these metrics allows for a more insightful interpretation of our results. \n",
    "\n",
    "Let's delve into the formulas and significance of each metric:\n",
    "\n",
    "> * **$R^2$ (R-squared)**: This metric, also known as the coefficient of determination, quantifies the proportion of variance in the target variable (song popularity) that is explained by the independent variables (song features) in our model. A higher $R^2$ value, closer to 1, indicates a better fit, suggesting that the model explains a larger portion of the variability in song popularity.\n",
    ">\n",
    ">   $$R^2 = 1 - \\frac{SS_{res}}{SS_{tot}}$$\n",
    ">   where $SS_{res}$ is the sum of squared residuals (difference between predicted and actual values) and $SS_{tot}$ is the total sum of squares (variance of the target variable).\n",
    "\n",
    "\n",
    "> * **Mean Squared Error (MSE):** MSE measures the average squared difference between the predicted and actual popularity scores. By squaring the errors, MSE gives more weight to larger deviations, penalizing outliers more heavily. A lower MSE indicates better accuracy, with a value of 0 representing a perfect fit (no prediction errors).\n",
    "> \n",
    ">   $$MSE = \\frac{1}{n} \\sum_{i=1}^{n} (y_i - \\hat{y}_i)^2$$\n",
    ">   where $n$ is the number of data points, $y_i$ is the actual popularity of song $i$, and $\\hat{y}_i$ is the model's predicted popularity for song $i$.\n",
    "\n",
    "\n",
    "> * **Root Mean Squared Error (RMSE):** RMSE is simply the square root of the MSE.  It provides an interpretable measure of the average prediction error in the same units as the target variable (song popularity). A lower RMSE suggests more accurate predictions, with a value closer to 0 indicating better performance.\n",
    "> \n",
    ">   $$RMSE = \\sqrt{MSE}$$\n",
    "\n",
    "\n",
    "> * **Mean Absolute Error (MAE):**  MAE calculates the average absolute difference between predicted and actual values, treating all errors equally without squaring. A lower MAE signifies better accuracy, with 0 representing a perfect fit.\n",
    "> \n",
    ">   $$MAE = \\frac{1}{n} \\sum_{i=1}^{n} |y_i - \\hat{y}_i|$$\n",
    "\n",
    "\n",
    "> * **Mean Absolute Percentage Error (MAPE):** This metric expresses the average prediction error as a percentage of the actual values, offering a relative measure of accuracy. A lower MAPE indicates better accuracy, with a value closer to 0 representing more precise predictions.\n",
    "> \n",
    ">   $$MAPE = \\frac{100%}{n}  \\sum_{i=1}^{n} |\\frac{y_i - \\hat{y}_i}{y_i}|$$\n",
    "\n",
    "\n",
    "Through the rigorous evaluation of our models across these metrics, we can confidently identify the best-performing algorithm for predicting song popularity. This, in turn, equips **Data Money** and our clients with actionable insights to make informed decisions and shape the future of music.\n",
    "</span>\n",
    "</div>\n",
    "\n"
   ]
  },
  {
   "cell_type": "markdown",
   "id": "0584ba91-1040-44f5-a3e3-c0d4465c5e1c",
   "metadata": {},
   "source": [
    "# 0 - Imports"
   ]
  },
  {
   "cell_type": "code",
   "execution_count": 67,
   "id": "d0237b66-1b61-4452-9752-16af484901b6",
   "metadata": {},
   "outputs": [],
   "source": [
    "import pandas            as pd\n",
    "import numpy             as np\n",
    "import seaborn           as sns\n",
    "import matplotlib.pyplot as plt\n",
    "import plotly.graph_objs as go\n",
    "import statsmodels.api   as sm\n",
    "\n",
    "from sklearn.tree            import DecisionTreeRegressor\n",
    "from sklearn.ensemble        import RandomForestRegressor\n",
    "from sklearn.linear_model    import LinearRegression, Lasso, Ridge, ElasticNet\n",
    "from sklearn.metrics         import (r2_score, mean_squared_error, root_mean_squared_error, mean_absolute_error, \n",
    "                                     mean_absolute_percentage_error)\n",
    "from sklearn.preprocessing   import PolynomialFeatures\n",
    "from sklearn.model_selection import GridSearchCV, ParameterGrid\n",
    "from sklearn.pipeline        import Pipeline\n",
    "\n",
    "import warnings\n",
    "warnings.filterwarnings(\"ignore\")\n",
    "warnings.filterwarnings('ignore', category=UserWarning, module='numpy')"
   ]
  },
  {
   "cell_type": "markdown",
   "id": "ff5e7515-b007-4be4-9335-e07123d8280c",
   "metadata": {},
   "source": [
    "# 1 - Loading data"
   ]
  },
  {
   "cell_type": "code",
   "execution_count": 68,
   "id": "d9c0d869-31e4-442c-b61b-8371c4aa9bc2",
   "metadata": {},
   "outputs": [],
   "source": [
    "X_train = pd.read_csv('Data/Regression/X_training.csv')\n",
    "y_train = pd.read_csv('Data/Regression/y_training.csv')\n",
    "\n",
    "X_val   = pd.read_csv('Data/Regression/X_validation.csv')\n",
    "y_val   = pd.read_csv('Data/Regression/y_val.csv')\n",
    "\n",
    "X_test  = pd.read_csv('Data/Regression/X_test.csv')\n",
    "y_test  = pd.read_csv('Data/Regression/y_test.csv')"
   ]
  },
  {
   "cell_type": "markdown",
   "id": "77cf1ce6-655c-4021-8911-67ce946e1999",
   "metadata": {},
   "source": [
    "# 2 - EDA"
   ]
  },
  {
   "cell_type": "code",
   "execution_count": 69,
   "id": "a7d6847b-51a3-4d7a-9fa5-446f7cde14e6",
   "metadata": {
    "scrolled": true
   },
   "outputs": [
    {
     "data": {
      "text/html": [
       "<div>\n",
       "<style scoped>\n",
       "    .dataframe tbody tr th:only-of-type {\n",
       "        vertical-align: middle;\n",
       "    }\n",
       "\n",
       "    .dataframe tbody tr th {\n",
       "        vertical-align: top;\n",
       "    }\n",
       "\n",
       "    .dataframe thead th {\n",
       "        text-align: right;\n",
       "    }\n",
       "</style>\n",
       "<table border=\"1\" class=\"dataframe\">\n",
       "  <thead>\n",
       "    <tr style=\"text-align: right;\">\n",
       "      <th></th>\n",
       "      <th>song_duration_ms</th>\n",
       "      <th>acousticness</th>\n",
       "      <th>danceability</th>\n",
       "      <th>energy</th>\n",
       "      <th>instrumentalness</th>\n",
       "      <th>key</th>\n",
       "      <th>liveness</th>\n",
       "      <th>loudness</th>\n",
       "      <th>audio_mode</th>\n",
       "      <th>speechiness</th>\n",
       "      <th>tempo</th>\n",
       "      <th>time_signature</th>\n",
       "      <th>audio_valence</th>\n",
       "    </tr>\n",
       "  </thead>\n",
       "  <tbody>\n",
       "    <tr>\n",
       "      <th>0</th>\n",
       "      <td>0.205673</td>\n",
       "      <td>0.092100</td>\n",
       "      <td>0.720</td>\n",
       "      <td>0.802</td>\n",
       "      <td>0.000000</td>\n",
       "      <td>0.090909</td>\n",
       "      <td>0.694</td>\n",
       "      <td>0.431778</td>\n",
       "      <td>1</td>\n",
       "      <td>0.0582</td>\n",
       "      <td>0.103876</td>\n",
       "      <td>0.8</td>\n",
       "      <td>0.723</td>\n",
       "    </tr>\n",
       "    <tr>\n",
       "      <th>1</th>\n",
       "      <td>-0.240409</td>\n",
       "      <td>0.737000</td>\n",
       "      <td>0.483</td>\n",
       "      <td>0.412</td>\n",
       "      <td>0.000000</td>\n",
       "      <td>0.636364</td>\n",
       "      <td>0.116</td>\n",
       "      <td>-0.262732</td>\n",
       "      <td>1</td>\n",
       "      <td>0.0402</td>\n",
       "      <td>1.711532</td>\n",
       "      <td>0.6</td>\n",
       "      <td>0.247</td>\n",
       "    </tr>\n",
       "    <tr>\n",
       "      <th>2</th>\n",
       "      <td>-0.125770</td>\n",
       "      <td>0.274000</td>\n",
       "      <td>0.671</td>\n",
       "      <td>0.565</td>\n",
       "      <td>0.000065</td>\n",
       "      <td>1.000000</td>\n",
       "      <td>0.370</td>\n",
       "      <td>0.013612</td>\n",
       "      <td>0</td>\n",
       "      <td>0.1600</td>\n",
       "      <td>1.009176</td>\n",
       "      <td>0.8</td>\n",
       "      <td>0.561</td>\n",
       "    </tr>\n",
       "    <tr>\n",
       "      <th>3</th>\n",
       "      <td>-0.580967</td>\n",
       "      <td>0.002340</td>\n",
       "      <td>0.704</td>\n",
       "      <td>0.529</td>\n",
       "      <td>0.874000</td>\n",
       "      <td>1.000000</td>\n",
       "      <td>0.370</td>\n",
       "      <td>-0.266382</td>\n",
       "      <td>0</td>\n",
       "      <td>0.0416</td>\n",
       "      <td>0.666173</td>\n",
       "      <td>0.8</td>\n",
       "      <td>0.507</td>\n",
       "    </tr>\n",
       "    <tr>\n",
       "      <th>4</th>\n",
       "      <td>-0.688566</td>\n",
       "      <td>0.000414</td>\n",
       "      <td>0.354</td>\n",
       "      <td>0.910</td>\n",
       "      <td>0.205000</td>\n",
       "      <td>0.090909</td>\n",
       "      <td>0.456</td>\n",
       "      <td>0.422914</td>\n",
       "      <td>1</td>\n",
       "      <td>0.0430</td>\n",
       "      <td>1.182630</td>\n",
       "      <td>0.8</td>\n",
       "      <td>0.362</td>\n",
       "    </tr>\n",
       "  </tbody>\n",
       "</table>\n",
       "</div>"
      ],
      "text/plain": [
       "   song_duration_ms  acousticness  danceability  energy  instrumentalness  \\\n",
       "0          0.205673      0.092100         0.720   0.802          0.000000   \n",
       "1         -0.240409      0.737000         0.483   0.412          0.000000   \n",
       "2         -0.125770      0.274000         0.671   0.565          0.000065   \n",
       "3         -0.580967      0.002340         0.704   0.529          0.874000   \n",
       "4         -0.688566      0.000414         0.354   0.910          0.205000   \n",
       "\n",
       "        key  liveness  loudness  audio_mode  speechiness     tempo  \\\n",
       "0  0.090909     0.694  0.431778           1       0.0582  0.103876   \n",
       "1  0.636364     0.116 -0.262732           1       0.0402  1.711532   \n",
       "2  1.000000     0.370  0.013612           0       0.1600  1.009176   \n",
       "3  1.000000     0.370 -0.266382           0       0.0416  0.666173   \n",
       "4  0.090909     0.456  0.422914           1       0.0430  1.182630   \n",
       "\n",
       "   time_signature  audio_valence  \n",
       "0             0.8          0.723  \n",
       "1             0.6          0.247  \n",
       "2             0.8          0.561  \n",
       "3             0.8          0.507  \n",
       "4             0.8          0.362  "
      ]
     },
     "execution_count": 69,
     "metadata": {},
     "output_type": "execute_result"
    }
   ],
   "source": [
    "X_train.head()"
   ]
  },
  {
   "cell_type": "code",
   "execution_count": 70,
   "id": "ab60fdab-f040-4d6a-a852-3bcbc20ab9a4",
   "metadata": {
    "scrolled": true
   },
   "outputs": [
    {
     "data": {
      "text/html": [
       "<div>\n",
       "<style scoped>\n",
       "    .dataframe tbody tr th:only-of-type {\n",
       "        vertical-align: middle;\n",
       "    }\n",
       "\n",
       "    .dataframe tbody tr th {\n",
       "        vertical-align: top;\n",
       "    }\n",
       "\n",
       "    .dataframe thead th {\n",
       "        text-align: right;\n",
       "    }\n",
       "</style>\n",
       "<table border=\"1\" class=\"dataframe\">\n",
       "  <thead>\n",
       "    <tr style=\"text-align: right;\">\n",
       "      <th></th>\n",
       "      <th>song_duration_ms</th>\n",
       "      <th>acousticness</th>\n",
       "      <th>danceability</th>\n",
       "      <th>energy</th>\n",
       "      <th>instrumentalness</th>\n",
       "      <th>key</th>\n",
       "      <th>liveness</th>\n",
       "      <th>loudness</th>\n",
       "      <th>audio_mode</th>\n",
       "      <th>speechiness</th>\n",
       "      <th>tempo</th>\n",
       "      <th>time_signature</th>\n",
       "      <th>audio_valence</th>\n",
       "    </tr>\n",
       "  </thead>\n",
       "  <tbody>\n",
       "    <tr>\n",
       "      <th>count</th>\n",
       "      <td>1.054700e+04</td>\n",
       "      <td>10547.000000</td>\n",
       "      <td>10547.000000</td>\n",
       "      <td>10547.000000</td>\n",
       "      <td>10547.000000</td>\n",
       "      <td>10547.000000</td>\n",
       "      <td>10547.000000</td>\n",
       "      <td>1.054700e+04</td>\n",
       "      <td>10547.000000</td>\n",
       "      <td>10547.000000</td>\n",
       "      <td>1.054700e+04</td>\n",
       "      <td>10547.000000</td>\n",
       "      <td>10547.000000</td>\n",
       "    </tr>\n",
       "    <tr>\n",
       "      <th>mean</th>\n",
       "      <td>5.995857e-17</td>\n",
       "      <td>0.259502</td>\n",
       "      <td>0.633974</td>\n",
       "      <td>0.645438</td>\n",
       "      <td>0.079089</td>\n",
       "      <td>0.483196</td>\n",
       "      <td>0.180416</td>\n",
       "      <td>2.489291e-16</td>\n",
       "      <td>0.627098</td>\n",
       "      <td>0.100937</td>\n",
       "      <td>-9.499054e-17</td>\n",
       "      <td>0.791581</td>\n",
       "      <td>0.529879</td>\n",
       "    </tr>\n",
       "    <tr>\n",
       "      <th>std</th>\n",
       "      <td>1.000047e+00</td>\n",
       "      <td>0.290173</td>\n",
       "      <td>0.156223</td>\n",
       "      <td>0.214348</td>\n",
       "      <td>0.222818</td>\n",
       "      <td>0.327242</td>\n",
       "      <td>0.144705</td>\n",
       "      <td>1.000047e+00</td>\n",
       "      <td>0.483599</td>\n",
       "      <td>0.103352</td>\n",
       "      <td>1.000047e+00</td>\n",
       "      <td>0.060822</td>\n",
       "      <td>0.244461</td>\n",
       "    </tr>\n",
       "    <tr>\n",
       "      <th>min</th>\n",
       "      <td>-3.553790e+00</td>\n",
       "      <td>0.000001</td>\n",
       "      <td>0.000000</td>\n",
       "      <td>0.001070</td>\n",
       "      <td>0.000000</td>\n",
       "      <td>0.000000</td>\n",
       "      <td>0.015700</td>\n",
       "      <td>-7.632256e+00</td>\n",
       "      <td>0.000000</td>\n",
       "      <td>0.000000</td>\n",
       "      <td>-4.220028e+00</td>\n",
       "      <td>0.000000</td>\n",
       "      <td>0.000000</td>\n",
       "    </tr>\n",
       "    <tr>\n",
       "      <th>25%</th>\n",
       "      <td>-5.810364e-01</td>\n",
       "      <td>0.024600</td>\n",
       "      <td>0.533000</td>\n",
       "      <td>0.512000</td>\n",
       "      <td>0.000000</td>\n",
       "      <td>0.181818</td>\n",
       "      <td>0.092700</td>\n",
       "      <td>-4.243671e-01</td>\n",
       "      <td>0.000000</td>\n",
       "      <td>0.037850</td>\n",
       "      <td>-7.756112e-01</td>\n",
       "      <td>0.800000</td>\n",
       "      <td>0.336000</td>\n",
       "    </tr>\n",
       "    <tr>\n",
       "      <th>50%</th>\n",
       "      <td>-1.146491e-01</td>\n",
       "      <td>0.132000</td>\n",
       "      <td>0.645000</td>\n",
       "      <td>0.675000</td>\n",
       "      <td>0.000011</td>\n",
       "      <td>0.454545</td>\n",
       "      <td>0.122000</td>\n",
       "      <td>2.346876e-01</td>\n",
       "      <td>1.000000</td>\n",
       "      <td>0.055200</td>\n",
       "      <td>-3.656695e-02</td>\n",
       "      <td>0.800000</td>\n",
       "      <td>0.532000</td>\n",
       "    </tr>\n",
       "    <tr>\n",
       "      <th>75%</th>\n",
       "      <td>4.224443e-01</td>\n",
       "      <td>0.432000</td>\n",
       "      <td>0.748000</td>\n",
       "      <td>0.815000</td>\n",
       "      <td>0.002835</td>\n",
       "      <td>0.727273</td>\n",
       "      <td>0.224000</td>\n",
       "      <td>6.609353e-01</td>\n",
       "      <td>1.000000</td>\n",
       "      <td>0.116000</td>\n",
       "      <td>6.566737e-01</td>\n",
       "      <td>0.800000</td>\n",
       "      <td>0.727000</td>\n",
       "    </tr>\n",
       "    <tr>\n",
       "      <th>max</th>\n",
       "      <td>1.969099e+01</td>\n",
       "      <td>0.996000</td>\n",
       "      <td>0.987000</td>\n",
       "      <td>0.999000</td>\n",
       "      <td>0.989000</td>\n",
       "      <td>1.000000</td>\n",
       "      <td>0.984000</td>\n",
       "      <td>2.292930e+00</td>\n",
       "      <td>1.000000</td>\n",
       "      <td>0.941000</td>\n",
       "      <td>4.226719e+00</td>\n",
       "      <td>1.000000</td>\n",
       "      <td>0.982000</td>\n",
       "    </tr>\n",
       "  </tbody>\n",
       "</table>\n",
       "</div>"
      ],
      "text/plain": [
       "       song_duration_ms  acousticness  danceability        energy  \\\n",
       "count      1.054700e+04  10547.000000  10547.000000  10547.000000   \n",
       "mean       5.995857e-17      0.259502      0.633974      0.645438   \n",
       "std        1.000047e+00      0.290173      0.156223      0.214348   \n",
       "min       -3.553790e+00      0.000001      0.000000      0.001070   \n",
       "25%       -5.810364e-01      0.024600      0.533000      0.512000   \n",
       "50%       -1.146491e-01      0.132000      0.645000      0.675000   \n",
       "75%        4.224443e-01      0.432000      0.748000      0.815000   \n",
       "max        1.969099e+01      0.996000      0.987000      0.999000   \n",
       "\n",
       "       instrumentalness           key      liveness      loudness  \\\n",
       "count      10547.000000  10547.000000  10547.000000  1.054700e+04   \n",
       "mean           0.079089      0.483196      0.180416  2.489291e-16   \n",
       "std            0.222818      0.327242      0.144705  1.000047e+00   \n",
       "min            0.000000      0.000000      0.015700 -7.632256e+00   \n",
       "25%            0.000000      0.181818      0.092700 -4.243671e-01   \n",
       "50%            0.000011      0.454545      0.122000  2.346876e-01   \n",
       "75%            0.002835      0.727273      0.224000  6.609353e-01   \n",
       "max            0.989000      1.000000      0.984000  2.292930e+00   \n",
       "\n",
       "         audio_mode   speechiness         tempo  time_signature  audio_valence  \n",
       "count  10547.000000  10547.000000  1.054700e+04    10547.000000   10547.000000  \n",
       "mean       0.627098      0.100937 -9.499054e-17        0.791581       0.529879  \n",
       "std        0.483599      0.103352  1.000047e+00        0.060822       0.244461  \n",
       "min        0.000000      0.000000 -4.220028e+00        0.000000       0.000000  \n",
       "25%        0.000000      0.037850 -7.756112e-01        0.800000       0.336000  \n",
       "50%        1.000000      0.055200 -3.656695e-02        0.800000       0.532000  \n",
       "75%        1.000000      0.116000  6.566737e-01        0.800000       0.727000  \n",
       "max        1.000000      0.941000  4.226719e+00        1.000000       0.982000  "
      ]
     },
     "execution_count": 70,
     "metadata": {},
     "output_type": "execute_result"
    }
   ],
   "source": [
    "X_train.describe()"
   ]
  },
  {
   "cell_type": "code",
   "execution_count": 71,
   "id": "da6c3dc4-7228-486d-bb9d-ebc0419c1800",
   "metadata": {},
   "outputs": [
    {
     "name": "stdout",
     "output_type": "stream",
     "text": [
      "<class 'pandas.core.frame.DataFrame'>\n",
      "RangeIndex: 10547 entries, 0 to 10546\n",
      "Data columns (total 13 columns):\n",
      " #   Column            Non-Null Count  Dtype  \n",
      "---  ------            --------------  -----  \n",
      " 0   song_duration_ms  10547 non-null  float64\n",
      " 1   acousticness      10547 non-null  float64\n",
      " 2   danceability      10547 non-null  float64\n",
      " 3   energy            10547 non-null  float64\n",
      " 4   instrumentalness  10547 non-null  float64\n",
      " 5   key               10547 non-null  float64\n",
      " 6   liveness          10547 non-null  float64\n",
      " 7   loudness          10547 non-null  float64\n",
      " 8   audio_mode        10547 non-null  int64  \n",
      " 9   speechiness       10547 non-null  float64\n",
      " 10  tempo             10547 non-null  float64\n",
      " 11  time_signature    10547 non-null  float64\n",
      " 12  audio_valence     10547 non-null  float64\n",
      "dtypes: float64(12), int64(1)\n",
      "memory usage: 1.0 MB\n"
     ]
    }
   ],
   "source": [
    "X_train.info()"
   ]
  },
  {
   "cell_type": "code",
   "execution_count": 72,
   "id": "e637e84a-353c-412d-80d8-d88183e9d5cb",
   "metadata": {
    "scrolled": true
   },
   "outputs": [
    {
     "data": {
      "text/html": [
       "<div>\n",
       "<style scoped>\n",
       "    .dataframe tbody tr th:only-of-type {\n",
       "        vertical-align: middle;\n",
       "    }\n",
       "\n",
       "    .dataframe tbody tr th {\n",
       "        vertical-align: top;\n",
       "    }\n",
       "\n",
       "    .dataframe thead th {\n",
       "        text-align: right;\n",
       "    }\n",
       "</style>\n",
       "<table border=\"1\" class=\"dataframe\">\n",
       "  <thead>\n",
       "    <tr style=\"text-align: right;\">\n",
       "      <th></th>\n",
       "      <th>song_popularity</th>\n",
       "    </tr>\n",
       "  </thead>\n",
       "  <tbody>\n",
       "    <tr>\n",
       "      <th>0</th>\n",
       "      <td>79.0</td>\n",
       "    </tr>\n",
       "    <tr>\n",
       "      <th>1</th>\n",
       "      <td>86.0</td>\n",
       "    </tr>\n",
       "    <tr>\n",
       "      <th>2</th>\n",
       "      <td>63.0</td>\n",
       "    </tr>\n",
       "    <tr>\n",
       "      <th>3</th>\n",
       "      <td>25.0</td>\n",
       "    </tr>\n",
       "    <tr>\n",
       "      <th>4</th>\n",
       "      <td>35.0</td>\n",
       "    </tr>\n",
       "  </tbody>\n",
       "</table>\n",
       "</div>"
      ],
      "text/plain": [
       "   song_popularity\n",
       "0             79.0\n",
       "1             86.0\n",
       "2             63.0\n",
       "3             25.0\n",
       "4             35.0"
      ]
     },
     "execution_count": 72,
     "metadata": {},
     "output_type": "execute_result"
    }
   ],
   "source": [
    "y_train.head()"
   ]
  },
  {
   "cell_type": "markdown",
   "id": "8177d754-97ae-42a6-97d7-83bfb492f141",
   "metadata": {},
   "source": [
    "# 3 - Model Training"
   ]
  },
  {
   "cell_type": "code",
   "execution_count": 73,
   "id": "92838bcd-2ede-44d9-807c-3379832e9704",
   "metadata": {},
   "outputs": [],
   "source": [
    "def calculate_metrics(y_true, y_pred):\n",
    "    \"\"\"Calculate and return regression metrics \"\"\"\n",
    "    r2   =                             r2_score(y_true, y_pred)\n",
    "    mse  =             float(mean_squared_error(y_true, y_pred))\n",
    "    rmse =        float(root_mean_squared_error(y_true, y_pred))\n",
    "    mae  =            float(mean_absolute_error(y_true, y_pred))\n",
    "    mape = float(mean_absolute_percentage_error(y_true, y_pred))\n",
    "    \n",
    "    return {\n",
    "        'R²': r2,\n",
    "        'MSE': mse,\n",
    "        'RMSE': rmse,\n",
    "        'MAE': mae,\n",
    "        'MAPE': mape\n",
    "    }\n",
    "\n",
    "X_train_val = np.concatenate((X_train, X_val))\n",
    "y_train_val = np.concatenate((y_train, y_val))"
   ]
  },
  {
   "cell_type": "markdown",
   "id": "2d3578a1-23e9-4a81-956b-d9efeef5d1d4",
   "metadata": {},
   "source": [
    "## 3.1 -  Linear Regression\n",
    "\n",
    "Linear regression is the bedrock of predictive modeling. It assumes a linear relationship between the input features (e.g., song duration, acousticness) and the target variable (song popularity). Its simplicity makes it easy to interpret and computationally efficient, making it a popular choice for tasks like:\n",
    "\n",
    "* **Predicting Sales:** Forecasting sales based on advertising spend, seasonality, and economic indicators.\n",
    "* **Estimating House Prices:** Determining property values using features like location, size, and amenities.\n",
    "* **Analyzing Trends:**  Understanding the relationship between variables over time, such as stock prices or population growth. \n"
   ]
  },
  {
   "cell_type": "markdown",
   "id": "3876df30-9b67-4cb7-8c5f-3fe5ba28c482",
   "metadata": {},
   "source": [
    "### 3.1.1 - Training"
   ]
  },
  {
   "cell_type": "code",
   "execution_count": 74,
   "id": "81df5cfc-d672-4ee2-8ba6-3ea314fe1ac2",
   "metadata": {
    "scrolled": true
   },
   "outputs": [
    {
     "data": {
      "text/plain": [
       "{'R²': 0.04605830473391903,\n",
       " 'MSE': 455.99611182562677,\n",
       " 'RMSE': 21.35406546364478,\n",
       " 'MAE': 16.998249066011095,\n",
       " 'MAPE': 8.653185943804512}"
      ]
     },
     "execution_count": 74,
     "metadata": {},
     "output_type": "execute_result"
    }
   ],
   "source": [
    "# Definition\n",
    "lin_reg_model = LinearRegression()\n",
    "\n",
    "# Training\n",
    "lin_reg_model.fit(X_train, y_train)\n",
    "\n",
    "# Performance\n",
    "yhat_train = lin_reg_model.predict(X_train)\n",
    "lin_reg_train_metrics = calculate_metrics(y_train, yhat_train)\n",
    "lin_reg_train_metrics"
   ]
  },
  {
   "cell_type": "markdown",
   "id": "c8276d40-adc6-4397-b4cf-1964874adf1c",
   "metadata": {},
   "source": [
    "Just for the sake of comparison, the regression was calculated using statsmodels to show the results in a different way"
   ]
  },
  {
   "cell_type": "code",
   "execution_count": 75,
   "id": "2dbef5eb-5191-474b-9298-1ca8f96038d2",
   "metadata": {
    "scrolled": true
   },
   "outputs": [
    {
     "name": "stdout",
     "output_type": "stream",
     "text": [
      "                            OLS Regression Results                            \n",
      "==============================================================================\n",
      "Dep. Variable:        song_popularity   R-squared:                       0.046\n",
      "Model:                            OLS   Adj. R-squared:                  0.045\n",
      "Method:                 Least Squares   F-statistic:                     39.12\n",
      "Date:                Wed, 04 Sep 2024   Prob (F-statistic):           6.61e-98\n",
      "Time:                        11:52:07   Log-Likelihood:                -47252.\n",
      "No. Observations:               10547   AIC:                         9.453e+04\n",
      "Df Residuals:                   10533   BIC:                         9.463e+04\n",
      "Df Model:                          13                                         \n",
      "Covariance Type:            nonrobust                                         \n",
      "====================================================================================\n",
      "                       coef    std err          t      P>|t|      [0.025      0.975]\n",
      "------------------------------------------------------------------------------------\n",
      "const               53.5322      3.193     16.766      0.000      47.274      59.791\n",
      "song_duration_ms    -0.2005      0.214     -0.938      0.348      -0.619       0.218\n",
      "acousticness        -3.6570      1.013     -3.611      0.000      -5.642      -1.672\n",
      "danceability        13.5683      1.593      8.517      0.000      10.446      16.691\n",
      "energy             -10.0883      1.888     -5.345      0.000     -13.788      -6.388\n",
      "instrumentalness    -9.9299      1.047     -9.486      0.000     -11.982      -7.878\n",
      "key                 -0.8697      0.648     -1.343      0.179      -2.140       0.400\n",
      "liveness            -4.8554      1.473     -3.296      0.001      -7.743      -1.968\n",
      "loudness             2.4942      0.359      6.946      0.000       1.790       3.198\n",
      "audio_mode          -0.2228      0.444     -0.502      0.616      -1.094       0.648\n",
      "speechiness         -1.7716      2.120     -0.836      0.403      -5.928       2.385\n",
      "tempo               -0.3980      0.215     -1.854      0.064      -0.819       0.023\n",
      "time_signature       7.3148      3.497      2.092      0.036       0.460      14.170\n",
      "audio_valence       -9.4682      1.006     -9.416      0.000     -11.439      -7.497\n",
      "==============================================================================\n",
      "Omnibus:                      571.618   Durbin-Watson:                   1.987\n",
      "Prob(Omnibus):                  0.000   Jarque-Bera (JB):              668.792\n",
      "Skew:                          -0.616   Prob(JB):                    5.94e-146\n",
      "Kurtosis:                       2.935   Cond. No.                         41.0\n",
      "==============================================================================\n",
      "\n",
      "Notes:\n",
      "[1] Standard Errors assume that the covariance matrix of the errors is correctly specified.\n"
     ]
    }
   ],
   "source": [
    "# Definition\n",
    "model_lin_reg = sm.OLS(y_train, sm.add_constant(X_train))\n",
    "\n",
    "# Training\n",
    "results = model_lin_reg.fit()\n",
    "\n",
    "print(results.summary())"
   ]
  },
  {
   "cell_type": "markdown",
   "id": "0329b81e-3793-43b7-9334-bd525d5bdbfe",
   "metadata": {},
   "source": [
    "### 3.1.2 - Validation"
   ]
  },
  {
   "cell_type": "code",
   "execution_count": 76,
   "id": "4c26ba7f-98fb-4c6b-883c-5a3aa9a48ee6",
   "metadata": {},
   "outputs": [
    {
     "data": {
      "text/plain": [
       "{'R²': 0.0399248303815406,\n",
       " 'MSE': 458.44704184393123,\n",
       " 'RMSE': 21.41137645841414,\n",
       " 'MAE': 17.039753759960327,\n",
       " 'MAPE': 8.682541883735295}"
      ]
     },
     "execution_count": 76,
     "metadata": {},
     "output_type": "execute_result"
    }
   ],
   "source": [
    "# Training\n",
    "lin_reg_model.fit(X_train, y_train)\n",
    "\n",
    "# Performance\n",
    "yhat_val = lin_reg_model.predict(X_val)\n",
    "lin_reg_val_metrics = calculate_metrics(y_val, yhat_val)\n",
    "lin_reg_val_metrics"
   ]
  },
  {
   "cell_type": "markdown",
   "id": "0cb5f910-da4f-4176-af76-207d61cc102c",
   "metadata": {},
   "source": [
    "### 3.1.3 - Test"
   ]
  },
  {
   "cell_type": "code",
   "execution_count": 77,
   "id": "b19ceeb9-d991-40ce-9ebf-969257540e77",
   "metadata": {},
   "outputs": [
    {
     "data": {
      "text/plain": [
       "{'R²': 0.05116551777115064,\n",
       " 'MSE': 461.9884353525593,\n",
       " 'RMSE': 21.4939162404751,\n",
       " 'MAE': 17.144197086987703,\n",
       " 'MAPE': 8.531355027820084}"
      ]
     },
     "execution_count": 77,
     "metadata": {},
     "output_type": "execute_result"
    }
   ],
   "source": [
    "# Training\n",
    "lin_reg_model.fit(X_train_val, y_train_val)\n",
    "\n",
    "# Performance\n",
    "yhat_test = lin_reg_model.predict(X_test)\n",
    "lin_reg_test_metrics = calculate_metrics(y_test, yhat_test)\n",
    "lin_reg_test_metrics"
   ]
  },
  {
   "cell_type": "markdown",
   "id": "ed44c4f4-36cf-4802-88ad-998e4275f96e",
   "metadata": {},
   "source": [
    "### 3.1.4 - Results"
   ]
  },
  {
   "cell_type": "code",
   "execution_count": 78,
   "id": "27cf4aa7-f9ee-4e29-8891-e5f688d1bb1b",
   "metadata": {},
   "outputs": [
    {
     "data": {
      "text/html": [
       "<div>\n",
       "<style scoped>\n",
       "    .dataframe tbody tr th:only-of-type {\n",
       "        vertical-align: middle;\n",
       "    }\n",
       "\n",
       "    .dataframe tbody tr th {\n",
       "        vertical-align: top;\n",
       "    }\n",
       "\n",
       "    .dataframe thead th {\n",
       "        text-align: right;\n",
       "    }\n",
       "</style>\n",
       "<table border=\"1\" class=\"dataframe\">\n",
       "  <thead>\n",
       "    <tr style=\"text-align: right;\">\n",
       "      <th></th>\n",
       "      <th>R²</th>\n",
       "      <th>MSE</th>\n",
       "      <th>RMSE</th>\n",
       "      <th>MAE</th>\n",
       "      <th>MAPE</th>\n",
       "    </tr>\n",
       "  </thead>\n",
       "  <tbody>\n",
       "    <tr>\n",
       "      <th>train</th>\n",
       "      <td>0.046058</td>\n",
       "      <td>455.996112</td>\n",
       "      <td>21.354065</td>\n",
       "      <td>16.998249</td>\n",
       "      <td>8.653186</td>\n",
       "    </tr>\n",
       "    <tr>\n",
       "      <th>val</th>\n",
       "      <td>0.039925</td>\n",
       "      <td>458.447042</td>\n",
       "      <td>21.411376</td>\n",
       "      <td>17.039754</td>\n",
       "      <td>8.682542</td>\n",
       "    </tr>\n",
       "    <tr>\n",
       "      <th>test</th>\n",
       "      <td>0.051166</td>\n",
       "      <td>461.988435</td>\n",
       "      <td>21.493916</td>\n",
       "      <td>17.144197</td>\n",
       "      <td>8.531355</td>\n",
       "    </tr>\n",
       "  </tbody>\n",
       "</table>\n",
       "</div>"
      ],
      "text/plain": [
       "             R²         MSE       RMSE        MAE      MAPE\n",
       "train  0.046058  455.996112  21.354065  16.998249  8.653186\n",
       "val    0.039925  458.447042  21.411376  17.039754  8.682542\n",
       "test   0.051166  461.988435  21.493916  17.144197  8.531355"
      ]
     },
     "execution_count": 78,
     "metadata": {},
     "output_type": "execute_result"
    }
   ],
   "source": [
    "lin_reg_metrics = pd.DataFrame({\n",
    "    'train': lin_reg_train_metrics,\n",
    "    'val': lin_reg_val_metrics,\n",
    "    'test': lin_reg_test_metrics\n",
    "})\n",
    "\n",
    "lin_reg_metrics = lin_reg_metrics.T\n",
    "lin_reg_metrics"
   ]
  },
  {
   "cell_type": "markdown",
   "id": "c2117b95-c047-4f04-bdcc-a4241adf963e",
   "metadata": {},
   "source": [
    "## 3.2 -  Decision Tree Regressor\n",
    "\n",
    "Decision tree regressors use a tree-like structure to make predictions. They partition data based on feature values, creating branches that lead to predicted outcomes. This approach offers:\n",
    "\n",
    "* **Intuitive Visualization:**  The tree structure provides a clear representation of the decision-making process.\n",
    "* **Handling Non-Linear Relationships:**  Decision trees can capture complex, non-linear patterns in data, unlike linear regression.\n",
    "* **Applications:** Credit risk assessment, medical diagnosis, customer churn prediction. \n"
   ]
  },
  {
   "cell_type": "markdown",
   "id": "267ec8bf-28b0-488c-820d-c6d2de697178",
   "metadata": {},
   "source": [
    "### 3.2.1 - Training"
   ]
  },
  {
   "cell_type": "code",
   "execution_count": 79,
   "id": "fa708d75-0474-40b1-bc64-c0644d801365",
   "metadata": {},
   "outputs": [
    {
     "data": {
      "text/plain": [
       "{'R²': 0.9917566957405923,\n",
       " 'MSE': 3.940402971731975,\n",
       " 'RMSE': 1.9850448286454327,\n",
       " 'MAE': 0.21409852496986279,\n",
       " 'MAPE': 0.08262787375974134}"
      ]
     },
     "execution_count": 79,
     "metadata": {},
     "output_type": "execute_result"
    }
   ],
   "source": [
    "# Definition\n",
    "dt_reg_model = DecisionTreeRegressor(random_state=0)\n",
    "\n",
    "# Training\n",
    "dt_reg_model.fit(X_train, y_train)\n",
    "\n",
    "# Performance\n",
    "yhat_train = dt_reg_model.predict(X_train)\n",
    "dt_reg_train_metrics = calculate_metrics(y_train, yhat_train)\n",
    "dt_reg_train_metrics"
   ]
  },
  {
   "cell_type": "markdown",
   "id": "f0a401ed-00d8-44ae-b9cf-a5fecab6b362",
   "metadata": {},
   "source": [
    "### 3.2.2 - Validation"
   ]
  },
  {
   "cell_type": "code",
   "execution_count": 80,
   "id": "e88e976c-782c-4678-98c9-94cd5edd0590",
   "metadata": {},
   "outputs": [
    {
     "name": "stdout",
     "output_type": "stream",
     "text": [
      "max_depth tested:  1  2  3  4  5  6  7  8  9  10  11  12  13  14  15  16  17  18  19  20  21  22  23  24  25  26  27  28  29  30  31  32  33  34  35  "
     ]
    },
    {
     "data": {
      "image/png": "[encoded data removed]",
      "text/plain": [
       "<Figure size 1000x600 with 1 Axes>"
      ]
     },
     "metadata": {},
     "output_type": "display_data"
    },
    {
     "name": "stdout",
     "output_type": "stream",
     "text": [
      "Best max_depth: 5\n",
      "{'R²': 0.06355927779643322, 'MSE': 447.1613187611445, 'RMSE': 21.146189225511637, 'MAE': 16.843451865846713, 'MAPE': 8.395778483246199}\n"
     ]
    }
   ],
   "source": [
    "max_depth_range = range(1,36,1)\n",
    "dt_reg_val_metrics = {i: None for i in max_depth_range}\n",
    "\n",
    "print('max_depth tested:', end='  ')\n",
    "for d in max_depth_range:\n",
    "\n",
    "    # Definition\n",
    "    dt_reg_model = DecisionTreeRegressor(random_state=0, max_depth=d)\n",
    "    \n",
    "    # Training\n",
    "    dt_reg_model.fit(X_train, y_train)\n",
    "    \n",
    "    # Performance\n",
    "    yhat_val = dt_reg_model.predict(X_val)\n",
    "    dt_reg_val_metrics_d = calculate_metrics(y_val, yhat_val)\n",
    "    dt_reg_val_metrics_d\n",
    "\n",
    "    # Storing metrics in the dictionary\n",
    "    dt_reg_val_metrics[d] = {\n",
    "        'metrics': dt_reg_val_metrics_d\n",
    "    }\n",
    "\n",
    "    print(f'{d}', end='  ')\n",
    "\n",
    "evaluated_metrics = [metrics['metrics']['R²'] for metrics in dt_reg_val_metrics.values()]\n",
    "\n",
    "plt.figure(figsize=(10, 6))\n",
    "plt.plot(max_depth_range, evaluated_metrics, marker='o')\n",
    "plt.xlabel('Max Depth')\n",
    "plt.ylabel('R²')\n",
    "plt.title('R² vs Max Depth')\n",
    "plt.grid(True)\n",
    "plt.show()\n",
    "\n",
    "dt_reg_best_max_depth = max(dt_reg_val_metrics, key=lambda k: dt_reg_val_metrics[k]['metrics']['R²'])\n",
    "dt_reg_val_metrics = dt_reg_val_metrics[dt_reg_best_max_depth]['metrics']\n",
    "print(f'Best max_depth: {dt_reg_best_max_depth}')\n",
    "print(dt_reg_val_metrics)"
   ]
  },
  {
   "cell_type": "markdown",
   "id": "c682fe50-ecb6-446a-9352-55944ce59be5",
   "metadata": {},
   "source": [
    "### 3.2.3 - Test"
   ]
  },
  {
   "cell_type": "code",
   "execution_count": 81,
   "id": "8bdbbf73-b91d-47eb-8e35-2f466164b9f7",
   "metadata": {},
   "outputs": [
    {
     "data": {
      "text/plain": [
       "{'R²': 0.09047547149696622,\n",
       " 'MSE': 442.84838052138286,\n",
       " 'RMSE': 21.043963042197703,\n",
       " 'MAE': 16.82978094998882,\n",
       " 'MAPE': 7.883226145162679}"
      ]
     },
     "execution_count": 81,
     "metadata": {},
     "output_type": "execute_result"
    }
   ],
   "source": [
    "# Definition\n",
    "dt_reg_model = DecisionTreeRegressor(random_state=0, max_depth=dt_reg_best_max_depth)\n",
    "\n",
    "# Training\n",
    "dt_reg_model.fit(X_train_val, y_train_val)\n",
    "\n",
    "# Performance\n",
    "yhat_test = dt_reg_model.predict(X_test)\n",
    "dt_reg_test_metrics = calculate_metrics(y_test, yhat_test)\n",
    "dt_reg_test_metrics"
   ]
  },
  {
   "cell_type": "markdown",
   "id": "eeb1b578-a508-4120-9b54-9c1696e78321",
   "metadata": {},
   "source": [
    "### 3.2.4 - Results"
   ]
  },
  {
   "cell_type": "code",
   "execution_count": 82,
   "id": "70828a3a-a483-4db7-ac94-770039c5b2e4",
   "metadata": {},
   "outputs": [
    {
     "data": {
      "text/html": [
       "<div>\n",
       "<style scoped>\n",
       "    .dataframe tbody tr th:only-of-type {\n",
       "        vertical-align: middle;\n",
       "    }\n",
       "\n",
       "    .dataframe tbody tr th {\n",
       "        vertical-align: top;\n",
       "    }\n",
       "\n",
       "    .dataframe thead th {\n",
       "        text-align: right;\n",
       "    }\n",
       "</style>\n",
       "<table border=\"1\" class=\"dataframe\">\n",
       "  <thead>\n",
       "    <tr style=\"text-align: right;\">\n",
       "      <th></th>\n",
       "      <th>R²</th>\n",
       "      <th>MSE</th>\n",
       "      <th>RMSE</th>\n",
       "      <th>MAE</th>\n",
       "      <th>MAPE</th>\n",
       "    </tr>\n",
       "  </thead>\n",
       "  <tbody>\n",
       "    <tr>\n",
       "      <th>train</th>\n",
       "      <td>0.991757</td>\n",
       "      <td>3.940403</td>\n",
       "      <td>1.985045</td>\n",
       "      <td>0.214099</td>\n",
       "      <td>0.082628</td>\n",
       "    </tr>\n",
       "    <tr>\n",
       "      <th>val</th>\n",
       "      <td>0.063559</td>\n",
       "      <td>447.161319</td>\n",
       "      <td>21.146189</td>\n",
       "      <td>16.843452</td>\n",
       "      <td>8.395778</td>\n",
       "    </tr>\n",
       "    <tr>\n",
       "      <th>test</th>\n",
       "      <td>0.090475</td>\n",
       "      <td>442.848381</td>\n",
       "      <td>21.043963</td>\n",
       "      <td>16.829781</td>\n",
       "      <td>7.883226</td>\n",
       "    </tr>\n",
       "  </tbody>\n",
       "</table>\n",
       "</div>"
      ],
      "text/plain": [
       "             R²         MSE       RMSE        MAE      MAPE\n",
       "train  0.991757    3.940403   1.985045   0.214099  0.082628\n",
       "val    0.063559  447.161319  21.146189  16.843452  8.395778\n",
       "test   0.090475  442.848381  21.043963  16.829781  7.883226"
      ]
     },
     "execution_count": 82,
     "metadata": {},
     "output_type": "execute_result"
    }
   ],
   "source": [
    "dt_reg_metrics = pd.DataFrame({\n",
    "    'train': dt_reg_train_metrics,\n",
    "    'val': dt_reg_val_metrics,\n",
    "    'test': dt_reg_test_metrics\n",
    "})\n",
    "\n",
    "dt_reg_metrics = dt_reg_metrics.T\n",
    "dt_reg_metrics"
   ]
  },
  {
   "cell_type": "markdown",
   "id": "784159a7-2d0b-47e8-8baa-a6058026db05",
   "metadata": {},
   "source": [
    "## 3.3 -  Random Forest Regressor\n",
    "\n",
    "Random forest regression combines multiple decision trees to improve accuracy and robustness. By averaging the predictions of many trees, it reduces the risk of overfitting and captures a wider range of data patterns. \n",
    "\n",
    "* **High Accuracy and Generalization:**  Random forests are known for their excellent predictive performance on a wide variety of tasks.\n",
    "* **Applications:**  Image classification, object detection, fraud detection, recommendation systems."
   ]
  },
  {
   "cell_type": "markdown",
   "id": "3dd447df-77d4-4503-8b68-18f7e5f901b0",
   "metadata": {},
   "source": [
    "### 3.3.1 - Training"
   ]
  },
  {
   "cell_type": "code",
   "execution_count": 83,
   "id": "6d907114-5191-448b-a8c2-eb640155f26e",
   "metadata": {},
   "outputs": [
    {
     "data": {
      "text/plain": [
       "{'R²': 0.9028168842467658,\n",
       " 'MSE': 46.45474994801846,\n",
       " 'RMSE': 6.815772146134175,\n",
       " 'MAE': 4.860772578122971,\n",
       " 'MAPE': 2.5779585497476467}"
      ]
     },
     "execution_count": 83,
     "metadata": {},
     "output_type": "execute_result"
    }
   ],
   "source": [
    "# Definition\n",
    "rf_reg_model = RandomForestRegressor(random_state=0)\n",
    "\n",
    "# Training\n",
    "rf_reg_model.fit(X_train, y_train)\n",
    "\n",
    "# Performance\n",
    "yhat_train = rf_reg_model.predict(X_train)\n",
    "rf_reg_train_metrics = calculate_metrics(y_train, yhat_train)\n",
    "rf_reg_train_metrics"
   ]
  },
  {
   "cell_type": "markdown",
   "id": "2a5cda2f-375b-4f57-a596-f98340de2433",
   "metadata": {},
   "source": [
    "### 3.3.2 - Validation"
   ]
  },
  {
   "cell_type": "code",
   "execution_count": null,
   "id": "9fcc6473-c2ca-4881-ae6b-3123f14810e7",
   "metadata": {
    "scrolled": true
   },
   "outputs": [],
   "source": [
    "# Define the parameter grid\n",
    "param_grid = {\n",
    "    'n_estimators': range(400, 801, 200),\n",
    "    'max_depth': range(33, 36, 1)\n",
    "}\n",
    "\n",
    "# Initialize variables to store the best results\n",
    "rf_reg_best_score  = -float('inf')\n",
    "rf_reg_best_params = None\n",
    "rf_reg_best_model  = None\n",
    "\n",
    "# Iterate over all combinations of parameters\n",
    "for params in ParameterGrid(param_grid):\n",
    "    # Create and train the model with the current parameters\n",
    "    model = RandomForestRegressor(random_state=0, **params)\n",
    "    model.fit(X_train, y_train)\n",
    "    \n",
    "    # Predict on the validation set\n",
    "    yhat_val = model.predict(X_val)\n",
    "    \n",
    "    # Calculate the R² score\n",
    "    score = r2_score(y_val, yhat_val)\n",
    "    \n",
    "    # Update the best score, parameters, and model if the current model is better\n",
    "    if score > rf_reg_best_score:\n",
    "        rf_reg_best_score  = score\n",
    "        rf_reg_best_params = params\n",
    "        rf_reg_best_model  = model\n",
    "\n",
    "# Output the best parameters and metrics\n",
    "print(f'\\nBest parameters: {rf_reg_best_params}')\n",
    "\n",
    "# Calculate and print metrics on the validation set using the best model\n",
    "rf_reg_val_metrics = calculate_metrics(y_val, rf_reg_best_model.predict(X_val))\n",
    "print('Metrics on the validation set:')\n",
    "print(rf_reg_val_metrics)\n"
   ]
  },
  {
   "cell_type": "markdown",
   "id": "fff47686-e96e-4b25-9954-ff5463cd7371",
   "metadata": {},
   "source": [
    "### 3.3.3 - Test"
   ]
  },
  {
   "cell_type": "code",
   "execution_count": null,
   "id": "1447f65b-965c-4818-996b-6f14e0eee8d4",
   "metadata": {},
   "outputs": [],
   "source": [
    "# Definition\n",
    "rf_reg_model = RandomForestRegressor(random_state=0, \n",
    "                                     n_estimators=rf_reg_best_params['n_estimators'],\n",
    "                                     max_depth=rf_reg_best_params['max_depth'])\n",
    "\n",
    "# Training\n",
    "rf_reg_model.fit(X_train_val, y_train_val)\n",
    "\n",
    "# Performance\n",
    "yhat_test = rf_reg_model.predict(X_test)\n",
    "rf_reg_test_metrics = calculate_metrics(y_test, yhat_test)\n",
    "rf_reg_test_metrics"
   ]
  },
  {
   "cell_type": "markdown",
   "id": "0883e09e-7f13-4067-9dc5-d3814721cb35",
   "metadata": {},
   "source": [
    "### 3.3.4 - Results"
   ]
  },
  {
   "cell_type": "code",
   "execution_count": null,
   "id": "700d4e4c-950f-4a16-9ce0-94a8ceaca237",
   "metadata": {
    "scrolled": true
   },
   "outputs": [],
   "source": [
    "rf_reg_metrics = pd.DataFrame({\n",
    "    'train': rf_reg_train_metrics,\n",
    "    'val': rf_reg_val_metrics,\n",
    "    'test': rf_reg_test_metrics\n",
    "})\n",
    "\n",
    "rf_reg_metrics = rf_reg_metrics.T\n",
    "rf_reg_metrics"
   ]
  },
  {
   "cell_type": "markdown",
   "id": "bff58122-08a0-432b-9392-c8ccfd007c90",
   "metadata": {},
   "source": [
    "## 3.4 -  Polynomial Regression\n",
    "\n",
    "Polynomial regression extends linear regression by fitting polynomial curves to the data. This allows it to capture non-linear relationships between features and the target variable. However, it requires careful tuning to avoid overfitting.\n",
    "\n",
    "* **Flexibility for Complex Data:**  Polynomial regression is well-suited for data where the relationship between variables is not strictly linear.\n",
    "* **Applications:**  Modeling growth curves, predicting stock prices, analyzing chemical reactions.\n"
   ]
  },
  {
   "cell_type": "markdown",
   "id": "79c3ee68-8fec-4bb1-ba12-9fd025a5fe6c",
   "metadata": {},
   "source": [
    "### 3.4.1 - Training"
   ]
  },
  {
   "cell_type": "code",
   "execution_count": null,
   "id": "cd2d4cee-f4e0-472c-b6f2-77bd839954c5",
   "metadata": {},
   "outputs": [],
   "source": [
    "# Define polynomial model\n",
    "poly = PolynomialFeatures()\n",
    "X_poly_train = poly.fit_transform(X_train)\n",
    "\n",
    "# Model Definition\n",
    "pol_reg_model = LinearRegression()\n",
    "\n",
    "# Training\n",
    "pol_reg_model.fit(X_poly_train, y_train)\n",
    "\n",
    "# Performance\n",
    "yhat_train = pol_reg_model.predict(X_poly_train)\n",
    "\n",
    "pol_reg_train_metrics = calculate_metrics(y_train, yhat_train)\n",
    "pol_reg_train_metrics"
   ]
  },
  {
   "cell_type": "markdown",
   "id": "106b6a0e-9f0d-4236-9333-75778e984884",
   "metadata": {},
   "source": [
    "### 3.4.2 - Validation"
   ]
  },
  {
   "cell_type": "code",
   "execution_count": null,
   "id": "e711a170-468f-4012-b469-1beff101ede2",
   "metadata": {},
   "outputs": [],
   "source": [
    "degree_range = range(1,4)\n",
    "pol_reg_val_metrics = {i: None for i in degree_range}\n",
    "\n",
    "print('Degree tested:', end='  ')\n",
    "for d in degree_range:\n",
    "\n",
    "    # Definition\n",
    "    poly = PolynomialFeatures(degree=d)\n",
    "    X_poly_train = poly.fit_transform(X_train)\n",
    "    X_poly_val = poly.fit_transform(X_val)\n",
    "    \n",
    "    # Training\n",
    "    pol_reg_model = LinearRegression()\n",
    "    pol_reg_model.fit(X_poly_train, y_train)\n",
    "    \n",
    "    # Performance\n",
    "    yhat_val = pol_reg_model.predict(X_poly_val)\n",
    "    pol_reg_val_metrics_d = calculate_metrics(y_val, yhat_val)\n",
    "    pol_reg_val_metrics_d\n",
    "\n",
    "    # Storing metrics in the dictionary\n",
    "    pol_reg_val_metrics[d] = {\n",
    "        'metrics': pol_reg_val_metrics_d\n",
    "    }\n",
    "    \n",
    "    print(f'{d}', end='  ')\n",
    "\n",
    "evaluated_metrics = [metrics['metrics']['R²'] for metrics in pol_reg_val_metrics.values()]\n",
    "\n",
    "plt.figure(figsize=(10, 6))\n",
    "plt.plot(degree_range, evaluated_metrics, marker='o')\n",
    "plt.xlabel('Degree')\n",
    "plt.ylabel('R²')\n",
    "plt.title('R² vs Degree')\n",
    "plt.grid(True)\n",
    "plt.show()\n",
    "\n",
    "pol_reg_best_degree = max(pol_reg_val_metrics, key=lambda k: pol_reg_val_metrics[k]['metrics']['R²'])\n",
    "pol_reg_val_metrics = pol_reg_val_metrics[pol_reg_best_degree]['metrics']\n",
    "print(f'Best degree: {pol_reg_best_degree}')\n",
    "print(pol_reg_val_metrics)"
   ]
  },
  {
   "cell_type": "markdown",
   "id": "e7297cf1-1881-453b-b31b-e4b1d1030a58",
   "metadata": {},
   "source": [
    "### 3.4.3 - Test"
   ]
  },
  {
   "cell_type": "code",
   "execution_count": null,
   "id": "65c0b62e-b2db-4e2b-9263-6e66cb1bc310",
   "metadata": {},
   "outputs": [],
   "source": [
    "# Define polynomial model\n",
    "poly = PolynomialFeatures(degree=pol_reg_best_degree)\n",
    "X_poly_train_val = poly.fit_transform(X_train_val)\n",
    "\n",
    "# Model Definition\n",
    "pol_reg_model = LinearRegression()\n",
    "\n",
    "# Training\n",
    "pol_reg_model.fit(X_poly_train_val, y_train_val)\n",
    "\n",
    "# Performance\n",
    "yhat_test = pol_reg_model.predict(X_poly_train_val)\n",
    "\n",
    "pol_reg_test_metrics = calculate_metrics(y_train_val, yhat_test)\n",
    "pol_reg_test_metrics"
   ]
  },
  {
   "cell_type": "markdown",
   "id": "dfc7cc1a-0501-4e80-ac3e-e770fe1aa014",
   "metadata": {},
   "source": [
    "### 3.4.4 - Results"
   ]
  },
  {
   "cell_type": "code",
   "execution_count": null,
   "id": "5d6576c1-e82d-4a17-91a9-e9e5ccd27a2d",
   "metadata": {},
   "outputs": [],
   "source": [
    "pol_reg_metrics = pd.DataFrame({\n",
    "    'train': pol_reg_train_metrics,\n",
    "    'val': pol_reg_val_metrics,\n",
    "    'test': pol_reg_test_metrics\n",
    "})\n",
    "\n",
    "pol_reg_metrics = pol_reg_metrics.T\n",
    "pol_reg_metrics"
   ]
  },
  {
   "cell_type": "markdown",
   "id": "77544ffc-8333-43c8-88ae-ac49766ed097",
   "metadata": {},
   "source": [
    "## 3.5 -  Linear Regression Lasso\n",
    "\n",
    "Linear Regression Lasso combines the simplicity of linear regression with the power of L1 regularization, also known as Lasso (Least Absolute Shrinkage and Selection Operator). This technique adds a penalty to the sum of the absolute values of the model's coefficients. The effect? It shrinks some coefficients to exactly zero, effectively performing feature selection.\n",
    "\n",
    "* **Key Advantage:**  Lasso helps identify the most important features that drive the target variable (e.g., song popularity), simplifying the model and improving interpretability.\n",
    "* **Applications:**\n",
    "    * **Gene Expression Analysis:** Identifying the most relevant genes associated with a particular disease.\n",
    "    * **Image Processing:**  Selecting the most informative pixels in an image for object recognition.\n",
    "    * **Marketing Analytics:**  Determining the most effective marketing channels for driving customer acquisition.\n"
   ]
  },
  {
   "cell_type": "markdown",
   "id": "5a57a046-fcd4-4ae2-ad31-99e6052f25a6",
   "metadata": {},
   "source": [
    "### 3.5.1 - Training"
   ]
  },
  {
   "cell_type": "code",
   "execution_count": null,
   "id": "7c29e708-3a13-4859-9618-e00f4de754ca",
   "metadata": {},
   "outputs": [],
   "source": [
    "# Definition\n",
    "lasso = Lasso(random_state=0)\n",
    "\n",
    "# Training\n",
    "lasso.fit(X_train, y_train)\n",
    "\n",
    "# Performance\n",
    "yhat_train = lasso.predict(X_train)\n",
    "lasso_train_metrics = calculate_metrics(y_train, yhat_train)\n",
    "lasso_train_metrics"
   ]
  },
  {
   "cell_type": "markdown",
   "id": "f37401f6-707f-4e9b-8977-09cb9450b56a",
   "metadata": {},
   "source": [
    "### 3.5.2 - Validation"
   ]
  },
  {
   "cell_type": "code",
   "execution_count": null,
   "id": "0d0f25ac-c6e9-4180-867e-a6ff80d7f4f3",
   "metadata": {},
   "outputs": [],
   "source": [
    "alpha_range = np.arange(0, 2, 0.5)\n",
    "max_iter_range = range(100, 501, 100)\n",
    "lasso_val_metrics = {}\n",
    "\n",
    "print('Testing combinations of alpha and max_iter:')\n",
    "for alpha in alpha_range:\n",
    "    for max_iter in max_iter_range:\n",
    "\n",
    "        # Definição do modelo Lasso com os parâmetros alpha e max_iter\n",
    "        lasso = Lasso(alpha=alpha, max_iter=max_iter, random_state=0)\n",
    "        \n",
    "        # Treinamento\n",
    "        lasso.fit(X_train, y_train)\n",
    "        \n",
    "        # Desempenho\n",
    "\n",
    "        yhat_val = lasso.predict(X_val)\n",
    "        lasso_val_metrics[(alpha, max_iter)] = calculate_metrics(y_val, yhat_val)\n",
    "\n",
    "        print(f'(alpha={alpha}, max_iter={max_iter})')\n",
    "\n",
    "lasso_best_combination = max(lasso_val_metrics, key=lambda k: lasso_val_metrics[k]['R²'])\n",
    "\n",
    "# Accessing the metrics of the best combination\n",
    "lasso_val_metrics_best = lasso_val_metrics[lasso_best_combination]\n",
    "\n",
    "# Displaying the best combination and its metrics\n",
    "print(f'\\nBest Combination (alpha, max_iter): {lasso_best_combination}')\n",
    "print(lasso_val_metrics_best)"
   ]
  },
  {
   "cell_type": "markdown",
   "id": "472b46fb-267b-4e2a-ba32-b8aa4461bbbd",
   "metadata": {},
   "source": [
    "### 3.5.3 - Test"
   ]
  },
  {
   "cell_type": "code",
   "execution_count": null,
   "id": "d5a96cda-3fec-48f9-9888-29b5b2cfef4c",
   "metadata": {},
   "outputs": [],
   "source": [
    "# Definition\n",
    "lasso = Lasso(random_state=0,\n",
    "              alpha=lasso_best_combination[0],\n",
    "              max_iter=lasso_best_combination[1])\n",
    "\n",
    "# Training\n",
    "lasso.fit(X_train_val, y_train_val)\n",
    "\n",
    "# Performance\n",
    "yhat_test = lasso.predict(X_test)\n",
    "lasso_test_metrics = calculate_metrics(y_test, yhat_test)\n",
    "lasso_test_metrics"
   ]
  },
  {
   "cell_type": "markdown",
   "id": "3f3ec949-922d-4269-8e48-bf2093e3a4c3",
   "metadata": {},
   "source": [
    "### 3.5.4 - Results"
   ]
  },
  {
   "cell_type": "code",
   "execution_count": null,
   "id": "f7052f66-dba1-47d6-8824-799df70ba0ac",
   "metadata": {},
   "outputs": [],
   "source": [
    "lasso_metrics = pd.DataFrame({\n",
    "    'train': lasso_train_metrics,\n",
    "    'val': lasso_val_metrics_best,\n",
    "    'test': lasso_test_metrics\n",
    "})\n",
    "\n",
    "lasso_metrics = lasso_metrics.T\n",
    "lasso_metrics"
   ]
  },
  {
   "cell_type": "markdown",
   "id": "f0d1597f-5cc2-47ce-9f6b-63184ce478fa",
   "metadata": {},
   "source": [
    "## 3.6 -  Linear Regression Ridge\n",
    "\n",
    "Linear Regression Ridge employs L2 regularization, which adds a penalty to the sum of the squared values of the model's coefficients. This technique shrinks the magnitude of all coefficients without forcing them to zero. The result is a more stable and robust model, less sensitive to outliers and multicollinearity (high correlation between features). \n",
    "\n",
    "* **Key Advantage:**  Ridge helps prevent overfitting by reducing the model's complexity and improving its ability to generalize to new data.\n",
    "* **Applications:**\n",
    "    * **Financial Modeling:**  Predicting stock prices or market trends, where fluctuations can be significant.\n",
    "    * **Medical Imaging:**  Analyzing medical images with noisy data, where robustness is crucial.\n",
    "    * **Text Analysis:**  Classifying documents or sentiment analysis, where high dimensionality can lead to overfitting.\n"
   ]
  },
  {
   "cell_type": "markdown",
   "id": "889ab4da-ff60-4cea-b34d-f2599f551761",
   "metadata": {},
   "source": [
    "### 3.6.1 - Training"
   ]
  },
  {
   "cell_type": "code",
   "execution_count": null,
   "id": "52b0cbc9-4135-4581-9c67-7080a9dfb49a",
   "metadata": {},
   "outputs": [],
   "source": [
    "# Definition\n",
    "ridge = Ridge(random_state=0)\n",
    "\n",
    "# Training\n",
    "ridge.fit(X_train, y_train)\n",
    "\n",
    "# Performance\n",
    "yhat_train = ridge.predict(X_train)\n",
    "ridge_train_metrics = calculate_metrics(y_train, yhat_train)\n",
    "ridge_train_metrics"
   ]
  },
  {
   "cell_type": "markdown",
   "id": "3842f76e-971a-43f6-bbe3-cd7e202eefbd",
   "metadata": {},
   "source": [
    "### 3.6.2 - Validation"
   ]
  },
  {
   "cell_type": "code",
   "execution_count": null,
   "id": "3a3f26a3-f041-402c-ab32-a7b287731799",
   "metadata": {},
   "outputs": [],
   "source": [
    "alpha_range = np.arange(0, 2, 0.5)\n",
    "max_iter_range = range(100, 501, 100)\n",
    "ridge_val_metrics = {}\n",
    "\n",
    "print('Testing combinations of alpha and max_iter:')\n",
    "for alpha in alpha_range:\n",
    "    for max_iter in max_iter_range:\n",
    "\n",
    "        # Definição do modelo ridge com os parâmetros alpha e max_iter\n",
    "        ridge = Ridge(alpha=alpha, max_iter=max_iter, random_state=0)\n",
    "        \n",
    "        # Treinamento\n",
    "        ridge.fit(X_train, y_train)\n",
    "        \n",
    "        # Desempenho\n",
    "        yhat_val = ridge.predict(X_val)\n",
    "        ridge_val_metrics[(alpha, max_iter)] = calculate_metrics(y_val, yhat_val)\n",
    "\n",
    "        print(f'(alpha={alpha}, max_iter={max_iter})')\n",
    "\n",
    "ridge_best_combination = max(ridge_val_metrics, key=lambda k: ridge_val_metrics[k]['R²'])\n",
    "\n",
    "# Accessing the metrics of the best combination\n",
    "ridge_val_metrics_best = ridge_val_metrics[ridge_best_combination]\n",
    "\n",
    "# Displaying the best combination and its metrics\n",
    "print(f'\\nBest Combination (alpha, max_iter): {ridge_best_combination}')\n",
    "print(ridge_val_metrics_best)"
   ]
  },
  {
   "cell_type": "markdown",
   "id": "2c0e5c13-907c-4430-a347-943e539f4af7",
   "metadata": {},
   "source": [
    "### 3.6.3 - Test"
   ]
  },
  {
   "cell_type": "code",
   "execution_count": null,
   "id": "95bb676c-287c-40cd-8588-516a58dc723c",
   "metadata": {},
   "outputs": [],
   "source": [
    "# Definition\n",
    "ridge = Ridge(random_state=0,\n",
    "              alpha=ridge_best_combination[0],\n",
    "              max_iter=ridge_best_combination[1])\n",
    "\n",
    "# Training\n",
    "ridge.fit(X_train_val, y_train_val)\n",
    "\n",
    "# Performance\n",
    "yhat_test = ridge.predict(X_test)\n",
    "ridge_test_metrics = calculate_metrics(y_test, yhat_test)\n",
    "ridge_test_metrics"
   ]
  },
  {
   "cell_type": "markdown",
   "id": "78a0490d-fce8-4387-8dec-8836b05a0af7",
   "metadata": {},
   "source": [
    "### 3.6.4 - Results"
   ]
  },
  {
   "cell_type": "code",
   "execution_count": null,
   "id": "22dc6d92-dd8e-4b41-a11b-e9b3441ae3dd",
   "metadata": {},
   "outputs": [],
   "source": [
    "ridge_metrics = pd.DataFrame({\n",
    "    'train': ridge_train_metrics,\n",
    "    'val': ridge_val_metrics_best,\n",
    "    'test': ridge_test_metrics\n",
    "})\n",
    "\n",
    "ridge_metrics = ridge_metrics.T\n",
    "ridge_metrics"
   ]
  },
  {
   "cell_type": "markdown",
   "id": "f1968850-cc73-4c12-bb41-86b490be2d58",
   "metadata": {},
   "source": [
    "## 3.7 -  Linear Regression ElasticNet\n",
    "\n",
    "Linear Regression Elastic Net combines the strengths of Lasso and Ridge regularization. It uses a penalty that includes both the sum of absolute values and the sum of squared values of the coefficients. This hybrid approach offers:\n",
    "\n",
    "* **Feature Selection and Stability:** Elastic Net can perform feature selection like Lasso while maintaining the stability and robustness of Ridge. \n",
    "* **Applications:**\n",
    "    * **Genomics:**  Analyzing complex gene interactions, where both feature selection and stability are essential.\n",
    "    * **Climate Modeling:**  Predicting weather patterns, which involve many interconnected variables.\n",
    "    * **Recommendation Systems:**  Improving the accuracy of recommendations by considering both user preferences and item features.\n"
   ]
  },
  {
   "cell_type": "markdown",
   "id": "c807b6e9-7eff-406b-8a61-126be99f2da5",
   "metadata": {},
   "source": [
    "### 3.7.1 - Training"
   ]
  },
  {
   "cell_type": "code",
   "execution_count": null,
   "id": "9e920472-9f01-45e6-a06d-6187409abfed",
   "metadata": {},
   "outputs": [],
   "source": [
    "# Definition\n",
    "elasticnet = ElasticNet(random_state=0)\n",
    "\n",
    "# Training\n",
    "elasticnet.fit(X_train, y_train)\n",
    "\n",
    "# Performance\n",
    "yhat_train = elasticnet.predict(X_train)\n",
    "elasticnet_train_metrics = calculate_metrics(y_train, yhat_train)\n",
    "elasticnet_train_metrics"
   ]
  },
  {
   "cell_type": "markdown",
   "id": "3be799f4-0ed3-4f71-ac69-9a37142733a6",
   "metadata": {},
   "source": [
    "### 3.7.2 - Validation"
   ]
  },
  {
   "cell_type": "code",
   "execution_count": null,
   "id": "9b2b4eef-6ebc-429d-9f1a-fbbe8f816960",
   "metadata": {
    "scrolled": true
   },
   "outputs": [],
   "source": [
    "# Defining the parameter ranges\n",
    "alpha_range = np.arange(0, 1.1, 0.1)\n",
    "l1_ratio_range = np.arange(0, 1.1, 0.1)\n",
    "max_iter_range = range(100, 501, 100)\n",
    "\n",
    "# Creating the parameter grid for GridSearchCV\n",
    "param_grid = {\n",
    "    'alpha': alpha_range,\n",
    "    'l1_ratio': l1_ratio_range,\n",
    "    'max_iter': max_iter_range\n",
    "}\n",
    "\n",
    "# Defining the ElasticNet model\n",
    "elasticnet = ElasticNet(random_state=0)\n",
    "\n",
    "# Setting up GridSearchCV\n",
    "grid_search = GridSearchCV(estimator=elasticnet, param_grid=param_grid, scoring='r2', cv=5)\n",
    "\n",
    "# Training the model\n",
    "grid_search.fit(X_train, y_train)\n",
    "\n",
    "# Prediction and evaluation on the validation set\n",
    "yhat_val = grid_search.best_estimator_.predict(X_val)\n",
    "\n",
    "# Storing the best metrics\n",
    "elasticnet_best_params = grid_search.best_params_\n",
    "# elasticnet_best_score = grid_search.best_score_\n",
    "\n",
    "# Displaying the best parameter combination and the best metric\n",
    "print(f'Best combination (alpha, l1_ratio, max_iter): {elasticnet_best_params}')\n",
    "\n",
    "# Calculating metrics for the validation set using the best model\n",
    "best_elasticnet = grid_search.best_estimator_\n",
    "elasticnet_val_metrics_best = calculate_metrics(y_val, yhat_val)\n",
    "\n",
    "print('\\nMetrics on the validation set:')\n",
    "elasticnet_val_metrics_best"
   ]
  },
  {
   "cell_type": "markdown",
   "id": "93c1fb7b-c7a3-4f09-8ab6-6aaa7fca12ba",
   "metadata": {},
   "source": [
    "### 3.5.3 - Test"
   ]
  },
  {
   "cell_type": "code",
   "execution_count": null,
   "id": "b1604478-1528-4226-a947-8fc0478de380",
   "metadata": {},
   "outputs": [],
   "source": [
    "# Definition\n",
    "elasticnet = ElasticNet(random_state=0,\n",
    "                        alpha=elasticnet_best_params['alpha'],\n",
    "                        max_iter=elasticnet_best_params['max_iter'],\n",
    "                        l1_ratio=elasticnet_best_params['l1_ratio'])\n",
    "\n",
    "# Training\n",
    "elasticnet.fit(X_train_val, y_train_val)\n",
    "\n",
    "# Performance\n",
    "yhat_test = elasticnet.predict(X_test)\n",
    "elasticnet_test_metrics = calculate_metrics(y_test, yhat_test)\n",
    "elasticnet_test_metrics"
   ]
  },
  {
   "cell_type": "markdown",
   "id": "d898c61e-46b5-4ea9-95dd-fd7e2ecc286f",
   "metadata": {},
   "source": [
    "### 3.7.4 - Results"
   ]
  },
  {
   "cell_type": "code",
   "execution_count": null,
   "id": "9430b433-1589-4d4a-9959-8001997403db",
   "metadata": {},
   "outputs": [],
   "source": [
    "elasticnet_metrics = pd.DataFrame({\n",
    "    'train': elasticnet_train_metrics,\n",
    "    'val': elasticnet_val_metrics_best,\n",
    "    'test': elasticnet_test_metrics\n",
    "})\n",
    "\n",
    "elasticnet_metrics = elasticnet_metrics.T\n",
    "elasticnet_metrics"
   ]
  },
  {
   "cell_type": "markdown",
   "id": "e8b69c3e-e2f7-4152-b54b-f551fe11e87b",
   "metadata": {},
   "source": [
    "## 3.8 - Polynomial Regression Lasso\n",
    "\n",
    "Polynomial Regression Lasso extends polynomial regression by adding L1 regularization. This combination allows the model to capture non-linear relationships while also performing feature selection.\n",
    "\n",
    "* **Key Advantage:** Polynomial Regression Lasso can handle more complex data patterns than linear models while still maintaining a degree of simplicity by selecting the most relevant features. \n",
    "* **Applications:** \n",
    "    * **Modeling Growth Curves:**  Predicting the growth of populations, organisms, or businesses over time.\n",
    "    * **Analyzing Chemical Reactions:**  Understanding the non-linear relationships between reactants and products. \n",
    "    * **Signal Processing:** Extracting meaningful information from complex signals, such as audio or sensor data.\n",
    "\n",
    "**10. Polynomial Regression Ridge:  Non-Linearity with Stability**\n",
    "\n",
    "Polynomial Regression Ridge combines polynomial regression with L2 regularization. This approach allows the model to capture non-linear relationships while reducing the risk of overfitting due to the high dimensionality of polynomial features.\n",
    "\n",
    "* **Key Advantage:** Polynomial Regression Ridge offers a balance between flexibility (to model non-linear patterns) and stability (to avoid overfitting). \n",
    "* **Applications:**\n",
    "    * **Economic Forecasting:**  Predicting economic indicators like GDP growth or inflation, where trends can be non-linear.\n",
    "    * **Image Recognition:**  Classifying images with complex features, where overfitting can be a challenge.\n",
    "    * **Robotics:**  Controlling robotic movements in environments with non-linear dynamics.\n",
    "\n",
    "**11. Polynomial Regression Elastic Net:  The Ultimate Flexibility**\n",
    "\n",
    "Polynomial Regression Elastic Net combines polynomial regression with both L1 and L2 regularization, offering the greatest flexibility in terms of model complexity and feature selection. \n",
    "\n",
    "* **Key Advantage:** Polynomial Regression Elastic Net is well-suited for datasets with complex relationships and potentially many features, as it can capture non-linear patterns while simultaneously performing feature selection and ensuring model stability.\n",
    "* **Applications:** \n",
    "    * **Bioinformatics:** Analyzing biological data with complex interactions, such as protein folding or gene networks.\n",
    "    * **Financial Risk Management:**  Modeling financial risk, where complex interactions between market factors can lead to non-linear outcomes.\n",
    "    * **Artificial Intelligence:**  Developing sophisticated AI systems that require both powerful predictive capabilities and the ability to handle large, complex datasets.\n",
    "\n",
    "By understanding the strengths and weaknesses of these diverse regression algorithms, we can select the most appropriate tools for predicting song popularity and other real-world phenomena, unlocking a deeper understanding of the factors that drive success. \n"
   ]
  },
  {
   "cell_type": "markdown",
   "id": "63500a5f-408b-469d-a99e-2ff6224ebcd7",
   "metadata": {},
   "source": [
    "### 3.8.1 - Training"
   ]
  },
  {
   "cell_type": "code",
   "execution_count": null,
   "id": "e43d032f-690c-4ab6-9039-b3dd26290d92",
   "metadata": {},
   "outputs": [],
   "source": [
    "# Define polynomial model\n",
    "poly = PolynomialFeatures()\n",
    "X_poly_train = poly.fit_transform(X_train)\n",
    "\n",
    "# Model Definition\n",
    "poly_lasso = Lasso()\n",
    "\n",
    "# Training\n",
    "poly_lasso.fit(X_poly_train, y_train)\n",
    "\n",
    "# Performance\n",
    "yhat_train = poly_lasso.predict(X_poly_train)\n",
    "\n",
    "poly_lasso_train_metrics = calculate_metrics(y_train, yhat_train)\n",
    "poly_lasso_train_metrics"
   ]
  },
  {
   "cell_type": "markdown",
   "id": "7cd87c62-8d43-4be5-a253-81685cc6073d",
   "metadata": {},
   "source": [
    "### 3.8.2 - Validation"
   ]
  },
  {
   "cell_type": "code",
   "execution_count": null,
   "id": "149e2e5c-1178-4483-9705-513a77af4038",
   "metadata": {
    "scrolled": true
   },
   "outputs": [],
   "source": [
    "# Define the parameter grid\n",
    "param_grid = {\n",
    "    'poly__degree': [1,2,3],  # Polynomial degree\n",
    "    'lasso__alpha': [0, 0.1, 0.2, 0.3],  # Lasso alpha\n",
    "    'lasso__max_iter': [100, 200, 300]  # Lasso max_iter\n",
    "}\n",
    "\n",
    "# Create the pipeline\n",
    "pipeline = Pipeline([\n",
    "    ('poly', PolynomialFeatures()),  # Polynomial features\n",
    "    ('lasso', Lasso())  # Lasso regression\n",
    "])\n",
    "\n",
    "# Set up GridSearchCV\n",
    "grid_search = GridSearchCV(pipeline, param_grid, cv=5, scoring='r2')\n",
    "\n",
    "# Fit GridSearchCV\n",
    "grid_search.fit(X_train, y_train)\n",
    "\n",
    "# Extract the best parameters and metrics\n",
    "poly_lasso_rf_best_params_val = grid_search.best_params_\n",
    "poly_lasso_rf_best_score_val  = grid_search.best_score_\n",
    "poly_lasso_rf_best_model_val  = grid_search.best_estimator_\n",
    "\n",
    "# poly_lasso_rf_best_params_val\n",
    "\n",
    "print(f'\\nBest parameters: {poly_lasso_rf_best_params_val}')\n",
    "\n",
    "# Use the best model to predict on the validation set\n",
    "yhat_val = poly_lasso_rf_best_model_val.predict(X_val)\n",
    "\n",
    "# Calculate and print metrics on the validation set\n",
    "poly_lasso_val_metrics = calculate_metrics(y_val, yhat_val)\n",
    "print('Metrics on the validation set:')\n",
    "poly_lasso_val_metrics"
   ]
  },
  {
   "cell_type": "markdown",
   "id": "5c66f636-aa57-4e6d-bade-a4d2edcf7b80",
   "metadata": {},
   "source": [
    "### 3.8.3 - Test"
   ]
  },
  {
   "cell_type": "code",
   "execution_count": null,
   "id": "8ae333bb-4981-41f7-a6c4-974d729cfb54",
   "metadata": {},
   "outputs": [],
   "source": [
    "# Define polynomial model\n",
    "poly = PolynomialFeatures(degree=poly_lasso_rf_best_params_val['poly__degree'])\n",
    "X_poly_train_val = poly.fit_transform(X_train_val)\n",
    "\n",
    "# Model Definition\n",
    "poly_lasso = Lasso(\n",
    "    random_state=0,\n",
    "    alpha=poly_lasso_rf_best_params_val['lasso__alpha'],\n",
    "    max_iter=poly_lasso_rf_best_params_val['lasso__max_iter']\n",
    ")\n",
    "\n",
    "# Training\n",
    "poly_lasso.fit(X_poly_train_val, y_train_val)\n",
    "\n",
    "# Performance\n",
    "yhat_test = poly_lasso.predict(X_poly_train_val)\n",
    "\n",
    "poly_lasso_test_metrics = calculate_metrics(y_train_val, yhat_test)\n",
    "poly_lasso_test_metrics"
   ]
  },
  {
   "cell_type": "markdown",
   "id": "5a028d67-cffe-442b-93b8-10058d1da246",
   "metadata": {},
   "source": [
    "### 3.8.4 - Results"
   ]
  },
  {
   "cell_type": "code",
   "execution_count": null,
   "id": "c1d75aae-e573-4153-ba6e-4768c17abe85",
   "metadata": {},
   "outputs": [],
   "source": [
    "poly_lasso_metrics = pd.DataFrame({\n",
    "    'train': poly_lasso_train_metrics,\n",
    "    'val': poly_lasso_val_metrics,\n",
    "    'test': poly_lasso_test_metrics\n",
    "})\n",
    "\n",
    "poly_lasso_metrics = poly_lasso_metrics.T\n",
    "poly_lasso_metrics"
   ]
  },
  {
   "cell_type": "markdown",
   "id": "7d2fdaa7-6ebf-4306-a91f-b49033918531",
   "metadata": {},
   "source": [
    "## 3.9 - Polynomial Regression Ridge"
   ]
  },
  {
   "cell_type": "markdown",
   "id": "e9f92e00-5907-464d-8687-c68076e6fa8f",
   "metadata": {},
   "source": [
    "### 3.9.1 - Training"
   ]
  },
  {
   "cell_type": "code",
   "execution_count": null,
   "id": "df3976f0-b59a-4b58-a3ea-bfe696d6ab2a",
   "metadata": {},
   "outputs": [],
   "source": [
    "# Define polynomial model\n",
    "poly = PolynomialFeatures()\n",
    "X_poly_train = poly.fit_transform(X_train)\n",
    "\n",
    "# Model Definition\n",
    "poly_ridge = Ridge()\n",
    "\n",
    "# Training\n",
    "poly_ridge.fit(X_poly_train, y_train)\n",
    "\n",
    "# Performance\n",
    "yhat_train = poly_ridge.predict(X_poly_train)\n",
    "\n",
    "poly_ridge_train_metrics = calculate_metrics(y_train, yhat_train)\n",
    "poly_ridge_train_metrics"
   ]
  },
  {
   "cell_type": "markdown",
   "id": "c2614844-ad18-4714-8977-72bced62c787",
   "metadata": {},
   "source": [
    "### 3.9.2 - Validation"
   ]
  },
  {
   "cell_type": "code",
   "execution_count": null,
   "id": "bf5b00d2-1fcb-46d8-b57a-45702fd0d21d",
   "metadata": {
    "scrolled": true
   },
   "outputs": [],
   "source": [
    "# Define the parameter grid\n",
    "param_grid = {\n",
    "    'poly__degree': [1,2,3],  # Polynomial degree\n",
    "    'ridge__alpha': [0, 0.1, 0.2, 0.3],  # Ridge alpha\n",
    "    'ridge__max_iter': [100, 200, 300]  # Ridge max_iter\n",
    "}\n",
    "\n",
    "# Create the pipeline\n",
    "pipeline = Pipeline([\n",
    "    ('poly', PolynomialFeatures()),  # Polynomial features\n",
    "    ('ridge', Ridge())  # Ridge regression\n",
    "])\n",
    "\n",
    "# Set up GridSearchCV\n",
    "grid_search = GridSearchCV(pipeline, param_grid, cv=5, scoring='r2')\n",
    "\n",
    "# Fit GridSearchCV\n",
    "grid_search.fit(X_train, y_train)\n",
    "\n",
    "# Extract the best parameters and metrics\n",
    "poly_ridge_rf_best_params_val = grid_search.best_params_\n",
    "poly_ridge_rf_best_score_val  = grid_search.best_score_\n",
    "poly_ridge_rf_best_model_val  = grid_search.best_estimator_\n",
    "\n",
    "print(f'\\nBest parameters: {poly_ridge_rf_best_params_val}')\n",
    "\n",
    "# Use the best model to predict on the validation set\n",
    "yhat_val = poly_ridge_rf_best_model_val.predict(X_val)\n",
    "\n",
    "# Calculate and print metrics on the validation set\n",
    "poly_ridge_val_metrics = calculate_metrics(y_val, yhat_val)\n",
    "print('Metrics on the validation set:')\n",
    "poly_ridge_val_metrics"
   ]
  },
  {
   "cell_type": "markdown",
   "id": "3c744a87-b6bc-4e2a-8b57-5e7f89c2d65f",
   "metadata": {},
   "source": [
    "### 3.9.3 - Test"
   ]
  },
  {
   "cell_type": "code",
   "execution_count": null,
   "id": "cf1a5abe-e1f8-4b01-998c-e21d265fc2dc",
   "metadata": {},
   "outputs": [],
   "source": [
    "# Define polynomial model\n",
    "poly = PolynomialFeatures(degree=poly_ridge_rf_best_params_val['poly__degree'])\n",
    "X_poly_train_val = poly.fit_transform(X_train_val)\n",
    "\n",
    "# Model Definition\n",
    "poly_ridge = Ridge(\n",
    "    random_state=0,\n",
    "    alpha=poly_ridge_rf_best_params_val['ridge__alpha'],\n",
    "    max_iter=poly_ridge_rf_best_params_val['ridge__max_iter']\n",
    ")\n",
    "\n",
    "# Training\n",
    "poly_ridge.fit(X_poly_train_val, y_train_val)\n",
    "\n",
    "# Performance\n",
    "yhat_test = poly_ridge.predict(X_poly_train_val)\n",
    "\n",
    "poly_ridge_test_metrics = calculate_metrics(y_train_val, yhat_test)\n",
    "poly_ridge_test_metrics"
   ]
  },
  {
   "cell_type": "markdown",
   "id": "ac038537-48e4-460a-940c-2f63efb41234",
   "metadata": {},
   "source": [
    "### 3.9.4 - Results"
   ]
  },
  {
   "cell_type": "code",
   "execution_count": null,
   "id": "a6937fe1-3e99-4d86-9459-b0d7decd3a54",
   "metadata": {},
   "outputs": [],
   "source": [
    "poly_ridge_metrics = pd.DataFrame({\n",
    "    'train': poly_ridge_train_metrics,\n",
    "    'val': poly_ridge_val_metrics,\n",
    "    'test': poly_ridge_test_metrics\n",
    "})\n",
    "\n",
    "poly_ridge_metrics = poly_ridge_metrics.T\n",
    "poly_ridge_metrics"
   ]
  },
  {
   "cell_type": "markdown",
   "id": "f0b814a2-80f5-49c1-90a5-b1dffb35c17d",
   "metadata": {},
   "source": [
    "## 3.10 - Polynomial Regression ElasticNet"
   ]
  },
  {
   "cell_type": "markdown",
   "id": "4615f1b4-e730-4e74-b757-f8a1c624604b",
   "metadata": {},
   "source": [
    "### 3.10.1 - Training"
   ]
  },
  {
   "cell_type": "code",
   "execution_count": null,
   "id": "d6af9fbf-ba53-4f61-ab0c-ab9a04c28dcf",
   "metadata": {},
   "outputs": [],
   "source": [
    "# Define polynomial model\n",
    "poly = PolynomialFeatures()\n",
    "X_poly_train = poly.fit_transform(X_train)\n",
    "\n",
    "# Model Definition\n",
    "poly_elasticnet = ElasticNet()\n",
    "\n",
    "# Training\n",
    "poly_elasticnet.fit(X_poly_train, y_train)\n",
    "\n",
    "# Performance\n",
    "yhat_train = poly_elasticnet.predict(X_poly_train)\n",
    "\n",
    "poly_elasticnet_train_metrics = calculate_metrics(y_train, yhat_train)\n",
    "poly_elasticnet_train_metrics"
   ]
  },
  {
   "cell_type": "markdown",
   "id": "b8ae89a8-0ea9-439f-83ed-404b60c53e07",
   "metadata": {},
   "source": [
    "### 3.10.2 - Validation"
   ]
  },
  {
   "cell_type": "code",
   "execution_count": null,
   "id": "68d46c89-93fb-4731-8c64-52560cd53e23",
   "metadata": {
    "scrolled": true
   },
   "outputs": [],
   "source": [
    "# Define the parameter grid\n",
    "param_grid = {\n",
    "    'poly__degree': [1, 2, 3],  # Polynomial degree\n",
    "    'elasticnet__alpha': [0.1, 0.5, 1.0],  # ElasticNet alpha\n",
    "    'elasticnet__l1_ratio': [0.2, 0.5, 0.8],  # ElasticNet l1_ratio\n",
    "    'elasticnet__max_iter': [100, 200, 300]  # ElasticNet max_iter\n",
    "}\n",
    "\n",
    "# Create the pipeline\n",
    "pipeline = Pipeline([\n",
    "    ('poly', PolynomialFeatures()),  # Polynomial features\n",
    "    ('elasticnet', ElasticNet())  # ElasticNet regression\n",
    "])\n",
    "\n",
    "# Set up GridSearchCV\n",
    "grid_search = GridSearchCV(pipeline, param_grid, cv=5, scoring='r2')\n",
    "\n",
    "# Fit GridSearchCV\n",
    "grid_search.fit(X_train, y_train)\n",
    "\n",
    "# Extract the best parameters and metrics\n",
    "poly_elasticnet_best_params_val = grid_search.best_params_\n",
    "poly_elasticnet_best_score_val  = grid_search.best_score_\n",
    "poly_elasticnet_best_model_val  = grid_search.best_estimator_\n",
    "\n",
    "print(f'\\nBest parameters: {poly_elasticnet_best_params_val}')\n",
    "\n",
    "# Use the best model to predict on the validation set\n",
    "yhat_val = poly_elasticnet_best_model_val.predict(X_val)\n",
    "\n",
    "# Calculate and print metrics on the validation set\n",
    "poly_elasticnet_val_metrics = calculate_metrics(y_val, yhat_val)\n",
    "print('Metrics on the validation set:')\n",
    "poly_elasticnet_val_metrics"
   ]
  },
  {
   "cell_type": "markdown",
   "id": "f22c66c6-47fa-4bb1-b867-1c857eaba39a",
   "metadata": {},
   "source": [
    "### 3.10.3 - Test"
   ]
  },
  {
   "cell_type": "code",
   "execution_count": null,
   "id": "a099b887-fd4a-4c97-a776-301de6fb25e6",
   "metadata": {},
   "outputs": [],
   "source": [
    "# Define polynomial model\n",
    "poly = PolynomialFeatures(degree=poly_elasticnet_best_params_val['poly__degree'])\n",
    "X_poly_train_val = poly.fit_transform(X_train_val)\n",
    "\n",
    "# Model Definition\n",
    "poly_elasticnet = ElasticNet(\n",
    "    random_state=0,\n",
    "    alpha=poly_elasticnet_best_params_val['elasticnet__alpha'],\n",
    "    l1_ratio=poly_elasticnet_best_params_val['elasticnet__l1_ratio'],\n",
    "    max_iter=poly_elasticnet_best_params_val['elasticnet__max_iter']\n",
    ")\n",
    "\n",
    "# Training\n",
    "poly_elasticnet.fit(X_poly_train_val, y_train_val)\n",
    "\n",
    "# Performance\n",
    "yhat_test = poly_elasticnet.predict(X_poly_train_val)\n",
    "\n",
    "# Calculate and store metrics for the test set\n",
    "poly_elasticnet_test_metrics = calculate_metrics(y_train_val, yhat_test)\n",
    "poly_elasticnet_test_metrics"
   ]
  },
  {
   "cell_type": "markdown",
   "id": "a50e4740-669a-44d6-9303-f135c95ffb15",
   "metadata": {},
   "source": [
    "### 3.10.4 - Results"
   ]
  },
  {
   "cell_type": "code",
   "execution_count": null,
   "id": "01c84dd5-c4ec-447b-a632-848c419bcca2",
   "metadata": {},
   "outputs": [],
   "source": [
    "poly_elasticnet_metrics = pd.DataFrame({\n",
    "    'train': poly_elasticnet_train_metrics,\n",
    "    'val': poly_elasticnet_val_metrics,\n",
    "    'test': poly_elasticnet_test_metrics\n",
    "})\n",
    "\n",
    "poly_elasticnet_metrics = poly_elasticnet_metrics.T\n",
    "poly_elasticnet_metrics"
   ]
  },
  {
   "cell_type": "markdown",
   "id": "d5cee359-9fa5-49c7-88f6-14444fcb86a6",
   "metadata": {},
   "source": [
    "# 4 - Trial results\n"
   ]
  },
  {
   "cell_type": "markdown",
   "id": "eb240465-cdc2-4e70-be4b-c376fcaae1c9",
   "metadata": {},
   "source": [
    "#### On the Training data "
   ]
  },
  {
   "cell_type": "code",
   "execution_count": null,
   "id": "6b766c40-c178-4397-8ea7-342bce33ca0d",
   "metadata": {},
   "outputs": [],
   "source": [
    "train_metrics_df = pd.DataFrame({\n",
    "    'Linear Regression': lin_reg_train_metrics,\n",
    "    'Decision Tree Regressor': dt_reg_train_metrics,\n",
    "    'Random Forest Regressor': rf_reg_train_metrics,\n",
    "    'Polynomial Regression': pol_reg_train_metrics,\n",
    "    'Linear Regression Lasso': lasso_train_metrics,\n",
    "    'Linear Regression Ridge': ridge_train_metrics,\n",
    "    'Linear Regression ElasticNet': elasticnet_train_metrics,\n",
    "    'Polynomial Regression Lasso': poly_lasso_train_metrics,\n",
    "    'Polynomial Regression Ridge': poly_ridge_train_metrics,\n",
    "    'Polynomial Regression ElasticNet': poly_elasticnet_train_metrics\n",
    "}).T\n",
    "\n",
    "train_metrics_df.style.background_gradient(cmap='coolwarm')"
   ]
  },
  {
   "cell_type": "markdown",
   "id": "437a84bf-fa0a-4d3c-b71b-29c6cacf6bf5",
   "metadata": {},
   "source": [
    "#### On the Validation data"
   ]
  },
  {
   "cell_type": "code",
   "execution_count": null,
   "id": "bbe5945f-1124-4893-bc49-265e6496fd13",
   "metadata": {},
   "outputs": [],
   "source": [
    "validation_metrics_df = pd.DataFrame({\n",
    "    'Linear Regression': lin_reg_val_metrics,\n",
    "    'Decision Tree Regressor': dt_reg_val_metrics,\n",
    "    'Random Forest Regressor': rf_reg_val_metrics,\n",
    "    'Polynomial Regression': pol_reg_val_metrics,\n",
    "    'Linear Regression Lasso': lasso_val_metrics_best,\n",
    "    'Linear Regression Ridge': ridge_val_metrics_best,\n",
    "    'Linear Regression Elastic Net': elasticnet_val_metrics_best,\n",
    "    'Polynomial Regression Lasso': poly_lasso_val_metrics,\n",
    "    'Polynomial Regression Ridge': poly_ridge_val_metrics,\n",
    "    'Polynomial Regression Elastic Net': poly_elasticnet_val_metrics\n",
    "}).T\n",
    "\n",
    "validation_metrics_df.style.background_gradient(cmap='coolwarm')"
   ]
  },
  {
   "cell_type": "markdown",
   "id": "1b18ecb3-5071-4d2f-bf6e-48275eea165c",
   "metadata": {},
   "source": [
    "#### On the Test data"
   ]
  },
  {
   "cell_type": "code",
   "execution_count": null,
   "id": "642c504f-ef38-4c4d-bcf4-a92b35cdbe42",
   "metadata": {},
   "outputs": [],
   "source": [
    "test_metrics_df = pd.DataFrame({\n",
    "    'Linear Regression': lin_reg_test_metrics,\n",
    "    'Decision Tree Regressor': dt_reg_test_metrics,\n",
    "    'Random Forest Regressor': rf_reg_test_metrics,\n",
    "    'Polynomial Regression': pol_reg_test_metrics,\n",
    "    'Linear Regression Lasso': lasso_test_metrics,\n",
    "    'Linear Regression Ridge': ridge_test_metrics,\n",
    "    'Linear Regression Elastic Net': elasticnet_test_metrics,\n",
    "    'Polynomial Regression Lasso': poly_lasso_test_metrics,\n",
    "    'Polynomial Regression Ridge': poly_ridge_test_metrics,\n",
    "    'Polynomial Regression Elastic Net': poly_elasticnet_test_metrics\n",
    "}).T\n",
    "\n",
    "test_metrics_df.style.background_gradient(cmap='coolwarm')"
   ]
  },
  {
   "cell_type": "markdown",
   "id": "52632b01-a415-4ff8-aa6b-374137cd33ee",
   "metadata": {},
   "source": [
    "## Visualizing Predictive Accuracy:  A Closer Look at the Random Forest Model\n",
    "\n",
    "To better understand the performance of our **Random Forest model**, we've created a scatter plot that visualizes the relationship between the **actual song popularity** (x-axis) and the **popularity predicted by the model** (y-axis).  We chose to focus on the Random Forest model due to its superior performance in terms of R-squared, RMSE, MAE, and MAPE compared to other regression algorithms we explored. "
   ]
  },
  {
   "cell_type": "code",
   "execution_count": null,
   "id": "b5921d74-f8f4-47db-b884-04824585f128",
   "metadata": {},
   "outputs": [],
   "source": [
    "y_pred = rf_reg_model.predict(X_test) \n",
    "\n",
    "y_test_values = y_test['song_popularity'].values  \n",
    "\n",
    "plt.figure(figsize=(8, 6))\n",
    "plt.scatter(y_test_values, y_pred, alpha=0.5)  \n",
    "plt.plot([min(y_test_values), max(y_test_values)], [min(y_test_values), max(y_test_values)], '--', color='red', label='Perfect Prediction')\n",
    "plt.title('Random Forest: Actual vs. Predicted Song Popularity', fontsize=14)\n",
    "plt.xlabel('Actual Popularity', fontsize=12)\n",
    "plt.ylabel('Predicted Popularity', fontsize=12)\n",
    "plt.legend(fontsize=10)\n",
    "plt.tight_layout()\n",
    "plt.show()"
   ]
  },
  {
   "cell_type": "markdown",
   "id": "7f8a6c10-cdf5-400c-b4ab-e1ab9fc2be20",
   "metadata": {},
   "source": [
    "The scatter plot reveals several key insights:\n",
    "\n",
    "* **Moderate Accuracy with Dispersion:**  While the points generally follow a **positive trend**, indicating that the model captures the overall relationship between song features and popularity, there's a noticeable degree of dispersion around the \"perfect prediction\" line (represented by the red dashed line). This suggests that the model's predictions are not always highly accurate, with a margin of error present in its forecasts. \n",
    "\n",
    "* **Strength in Mid-Range Popularity:**  The model appears to be most accurate when predicting songs within the mid-range of popularity scores (**between 40 and 70**).  This is evident from the higher concentration of data points closer to the perfect prediction line within this range. \n",
    "\n",
    "* **The Influence of External Factors:**  The scatter plot reinforces a crucial understanding: song popularity is a complex phenomenon influenced by factors beyond the musical features we've analyzed. Marketing campaigns, social media buzz, critical acclaim, and even sheer luck can significantly impact a song's success. This explains the dispersion of points and the model's occasional larger errors, particularly for songs with higher actual popularity. \n",
    "\n",
    "**Key Takeaways:**\n",
    "\n",
    "* **1. Talent Discovery:**  Let’s use our model to identify promising artists and songs early on, flagging those with above-average predicted popularity for A&R teams.\n",
    "\n",
    "* **2. Playlist Curation:** We can help streaming services create more engaging playlists by prioritizing songs with higher predicted popularity, tailored to specific moods, genres, or listener preferences. \n",
    "\n",
    "* **3. Smarter Marketing:** Labels and artists can benefit from our insights by focusing their marketing efforts on songs with the greatest predicted potential for success. This ensures resources are allocated strategically for maximum impact. \n",
    "\n",
    "* **4.  Beyond Musical Features:** We can further refine our predictions by incorporating social media engagement metrics, sentiment analysis from reviews, and marketing campaign data. "
   ]
  },
  {
   "cell_type": "markdown",
   "id": "fb9e59f0-b798-446e-870b-24555d088e0b",
   "metadata": {},
   "source": [
    "## Feature Importance: Unlocking the Drivers of Song Popularity"
   ]
  },
  {
   "cell_type": "code",
   "execution_count": null,
   "id": "c2f0d0b5-392c-45f7-8b8f-1070b12b0fa4",
   "metadata": {},
   "outputs": [],
   "source": [
    "feature_importances = rf_reg_model.feature_importances_\n",
    "\n",
    "features_df = pd.DataFrame({'Feature': X_train.columns, 'Importance': feature_importances})\n",
    "features_df = features_df.sort_values(by='Importance', ascending=False)\n",
    "\n",
    "plt.figure(figsize=(10, 6))\n",
    "sns.barplot(x='Importance', y='Feature', data=features_df, palette=\"coolwarm\")\n",
    "plt.title('Feature Importance (Random Forest)', fontsize=14)\n",
    "plt.xlabel('Importance', fontsize=12)\n",
    "plt.ylabel('Feature', fontsize=12)\n",
    "plt.tight_layout()\n",
    "plt.show()"
   ]
  },
  {
   "cell_type": "markdown",
   "id": "d795804f-68cd-4b6f-906d-e41e68b80a94",
   "metadata": {},
   "source": [
    "The feature importance plot derived from our **Random Forest model** unveils fascinating insights into the factors that most strongly influence a song's popularity:\n",
    "\n",
    "> * **Loudness Matters Most:** The most striking finding is that **loudness** significantly impacts song popularity.  This could be due to the attention-grabbing nature of louder tracks or the prevalence of loudness normalization in streaming platforms, making louder songs sound more prominent.\n",
    ">     * **Action:** Artists and producers should carefully consider loudness levels during mastering to maximize impact, especially within the context of streaming services. \n",
    "\n",
    "\n",
    "> * **Danceability and Valence Also Contribute:** \"Danceability\" and \"audio valence\" (positivity) also hold considerable weight, suggesting that upbeat and energetic songs with a positive vibe tend to perform better. \n",
    ">     * **Action:** Encouraging artists to explore themes of joy, hope, and optimism, while crafting music with a strong rhythmic groove, can boost a song’s appeal.\n",
    "\n",
    "\n",
    "> * **Acousticness: A Balancing Act:**  \"Acousticness\" is another significant predictor, but its impact might be genre-dependent. In some genres, acoustic elements enhance appeal, while in others, they might be less effective.\n",
    ">     * **Action:**  Data Money can further investigate the role of acousticness in specific genres to provide tailored insights to clients.\n",
    "\n",
    "\n",
    "> * **Other Features: Less Impactful:** Features like \"song duration,\" \"tempo,\" \"instrumentalness,\" and \"speechiness\" have a relatively lower impact, suggesting they play a less prominent role in overall popularity. \n",
    ">     * **Action:**  While these features may not be primary drivers of success, understanding their nuances within specific genres or contexts can still offer valuable insights."
   ]
  },
  {
   "cell_type": "markdown",
   "id": "c5dd1630-2354-4322-bdf2-48e16bbf2b60",
   "metadata": {},
   "source": [
    "# 5. Conclusion: Hit Potential, Unlocked. Insights from Predicting Song Popularity – And a Look Ahead\n",
    "\n",
    "Our deep dive into the world of regression algorithms has yielded valuable insights, illuminating the path towards predicting song popularity with a data-driven edge. While achieving perfect prediction remains elusive – reflecting the inherent complexity of musical taste – our analysis reveals a clear winner and paves the way for strategic decision-making in the music industry. \n",
    "\n",
    "**Key Findings:**\n",
    "\n",
    "* **Random Forest Takes Center Stage:** Our analysis highlighted Random Forest as the most effective model, surpassing traditional linear regression approaches. While achieving a moderate **R-squared of 0.407** on the test data, signifying that approximately 40% of the variability in song popularity can be explained by the features we analyzed, it also maintained a relatively low **RMSE of 16.99** and a **MAPE of 6.32%**.  These metrics, taken together, suggest that Random Forest can provide valuable, albeit not perfect, predictions about a song's potential to resonate with listeners.\n",
    "\n",
    "* **The Power of Ensemble Methods and the Dominance of Loudness:** Random Forest's strength lies in its ability to combine multiple decision trees, mitigating the risk of overfitting that often hinders simpler models.  This ensemble approach allows it to capture more complex relationships within the data, leading to more robust and generalizable predictions. **Crucially, our feature importance analysis unveiled that *loudness* is the most influential factor in predicting song popularity. This highlights the importance of optimizing loudness levels during production to capture listener attention, particularly in the context of streaming platforms.** *Danceability*, *energy*, and *audio valence* also emerged as significant predictors, suggesting that upbeat, positive songs with a strong rhythmic groove tend to perform better. \n",
    "\n",
    "* **From Insights to Action – And Beyond:**  These findings offer exciting possibilities for Data Money and our clients. Imagine empowering talent scouts to identify promising artists early on, not just through intuition but backed by data-informed predictions, considering the critical role of loudness. \n",
    "\n",
    "    - **But we're not stopping there.** We recognize that predicting song popularity is not an exact science.  Our analysis underscores the influence of external factors beyond the musical features currently analyzed. Moving forward, we’ll actively pursue model refinement by incorporating social media trends, marketing data, and expert reviews to provide an even more holistic view of the factors driving song popularity.  We'll also continuously explore new algorithms and techniques, ensuring we're always pushing the boundaries of predictive accuracy and delivering cutting-edge insights to our clients.\n",
    "\n",
    "This journey into song popularity prediction has underscored the power of data-driven decision-making in the music industry. By embracing advanced analytics and collaborating closely with our clients, **Data Money** is poised to *unlock new opportunities and shape the future of musical success*. \n"
   ]
  }
 ],
 "metadata": {
  "kernelspec": {
   "display_name": "Python 3 (ipykernel)",
   "language": "python",
   "name": "python3"
  },
  "language_info": {
   "codemirror_mode": {
    "name": "ipython",
    "version": 3
   },
   "file_extension": ".py",
   "mimetype": "text/x-python",
   "name": "python",
   "nbconvert_exporter": "python",
   "pygments_lexer": "ipython3",
   "version": "3.12.4"
  }
 },
 "nbformat": 4,
 "nbformat_minor": 5
}
